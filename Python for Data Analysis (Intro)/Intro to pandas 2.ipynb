{
 "cells": [
  {
   "cell_type": "code",
   "execution_count": 24,
   "metadata": {
    "collapsed": true
   },
   "outputs": [],
   "source": [
    "#####################################################################\n",
    "# Examples below are (more or less) taken from \n",
    "# “Python for Data Analysis\" by William Wesley McKinney (O’Reilly).\n",
    "# Copyright 2012 William McKinney, 978-1-449-31979-3.\n",
    "#\n",
    "# TOPICS COVERED:\n",
    "# - Reading & Writing Data in Text Format\n",
    "# - Reading Some Other Formats\n",
    "#####################################################################\n",
    "\n",
    "# This notebook is written in Python 3.\n",
    "\n",
    "from pandas import Series, DataFrame\n",
    "import pandas as pd\n",
    "import numpy as np\n",
    "from numpy import nan as NA"
   ]
  },
  {
   "cell_type": "markdown",
   "metadata": {},
   "source": [
    "## Reading & Writing Data in Text Format"
   ]
  },
  {
   "cell_type": "markdown",
   "metadata": {},
   "source": [
    "### Reading in Files"
   ]
  },
  {
   "cell_type": "code",
   "execution_count": 25,
   "metadata": {
    "collapsed": false
   },
   "outputs": [
    {
     "name": "stdout",
     "output_type": "stream",
     "text": [
      "a,b,c,d,message\r\n",
      "1,2,3,4,hello\r\n",
      "5,6,7,8,world\r\n",
      "9,10,11,12,foo"
     ]
    }
   ],
   "source": [
    "!cat Datasets/ex1.csv"
   ]
  },
  {
   "cell_type": "code",
   "execution_count": 26,
   "metadata": {
    "collapsed": false
   },
   "outputs": [
    {
     "data": {
      "text/html": [
       "<div>\n",
       "<table border=\"1\" class=\"dataframe\">\n",
       "  <thead>\n",
       "    <tr style=\"text-align: right;\">\n",
       "      <th></th>\n",
       "      <th>a</th>\n",
       "      <th>b</th>\n",
       "      <th>c</th>\n",
       "      <th>d</th>\n",
       "      <th>message</th>\n",
       "    </tr>\n",
       "  </thead>\n",
       "  <tbody>\n",
       "    <tr>\n",
       "      <th>0</th>\n",
       "      <td>1</td>\n",
       "      <td>2</td>\n",
       "      <td>3</td>\n",
       "      <td>4</td>\n",
       "      <td>hello</td>\n",
       "    </tr>\n",
       "    <tr>\n",
       "      <th>1</th>\n",
       "      <td>5</td>\n",
       "      <td>6</td>\n",
       "      <td>7</td>\n",
       "      <td>8</td>\n",
       "      <td>world</td>\n",
       "    </tr>\n",
       "    <tr>\n",
       "      <th>2</th>\n",
       "      <td>9</td>\n",
       "      <td>10</td>\n",
       "      <td>11</td>\n",
       "      <td>12</td>\n",
       "      <td>foo</td>\n",
       "    </tr>\n",
       "  </tbody>\n",
       "</table>\n",
       "</div>"
      ],
      "text/plain": [
       "   a   b   c   d message\n",
       "0  1   2   3   4   hello\n",
       "1  5   6   7   8   world\n",
       "2  9  10  11  12     foo"
      ]
     },
     "execution_count": 26,
     "metadata": {},
     "output_type": "execute_result"
    }
   ],
   "source": [
    "# Use read_csv to read in csv file\n",
    "df = pd.read_csv(\"Datasets/ex1.csv\")\n",
    "# Equivalent to pd.read_table(\"Datasets/ex1.csv\", sep=',')\n",
    "df"
   ]
  },
  {
   "cell_type": "code",
   "execution_count": 27,
   "metadata": {
    "collapsed": false
   },
   "outputs": [
    {
     "name": "stdout",
     "output_type": "stream",
     "text": [
      "1,2,3,4,hello\r\n",
      "5,6,7,8,world\r\n",
      "9,10,11,12,foo"
     ]
    }
   ],
   "source": [
    "# csv file without a header row\n",
    "!cat Datasets/ex2.csv"
   ]
  },
  {
   "cell_type": "code",
   "execution_count": 28,
   "metadata": {
    "collapsed": false
   },
   "outputs": [
    {
     "name": "stdout",
     "output_type": "stream",
     "text": [
      "   0   1   2   3      4\n",
      "0  1   2   3   4  hello\n",
      "1  5   6   7   8  world\n",
      "2  9  10  11  12    foo\n",
      "   a   b   c   d message\n",
      "0  1   2   3   4   hello\n",
      "1  5   6   7   8   world\n",
      "2  9  10  11  12     foo\n",
      "         a   b   c   d\n",
      "message               \n",
      "hello    1   2   3   4\n",
      "world    5   6   7   8\n",
      "foo      9  10  11  12\n"
     ]
    }
   ],
   "source": [
    "# pd.read_csv(\"Datasets/ex2.csv\") gives the wrong answer: it uses the first row as headers.\n",
    "print(pd.read_csv(\"Datasets/ex2.csv\", header=None))  # default column names\n",
    "print(pd.read_csv(\"Datasets/ex2.csv\",\n",
    "                  names=['a','b','c','d','message']))  # your own column names\n",
    "print(pd.read_csv(\"Datasets/ex2.csv\",\n",
    "                  names=['a','b','c','d','message'],\n",
    "                  index_col='message'))  # your own column names & setting index column"
   ]
  },
  {
   "cell_type": "code",
   "execution_count": 29,
   "metadata": {
    "collapsed": false
   },
   "outputs": [
    {
     "name": "stdout",
     "output_type": "stream",
     "text": [
      "# hey\r",
      "something,a,b,c,d,message\r",
      "# just wanted to make things more difficult for you\r\n",
      "# who reads CSV files with computers, anyway?\r\n",
      "one,1,2,3,4,NA\r\n",
      "two,5,6,,8,world\r\n",
      "three,9,10,11,12,foo"
     ]
    }
   ],
   "source": [
    "# csv file with rows that are not data and rows which contain NAs\n",
    "# (somehow this is not printing out correctly)\n",
    "!cat Datasets/ex3.csv"
   ]
  },
  {
   "cell_type": "code",
   "execution_count": 30,
   "metadata": {
    "collapsed": false
   },
   "outputs": [
    {
     "name": "stdout",
     "output_type": "stream",
     "text": [
      "  something  a   b   c   d message\n",
      "0       one  1   2   3   4     NaN\n",
      "1       two  5   6 NaN   8   world\n",
      "2     three  9  10  11  12     foo\n",
      "  something  a   b   c   d message\n",
      "0       one  1   2   3   4     NaN\n",
      "1       NaN  5   6 NaN   8   world\n",
      "2     three  9  10  11  12     NaN\n"
     ]
    }
   ],
   "source": [
    "# add skiprows attribute to skip the rows without data\n",
    "# By default, pandas uses a set of commonly occuring sentinels (e.g. NA, -1.#IND, NULL)\n",
    "print(pd.read_csv(\"Datasets/ex3.csv\", skiprows=[0,2,3]))\n",
    "\n",
    "# na_values option can take a list or set of strings to consider missing values\n",
    "p = pd.read_csv(\"Datasets/ex3.csv\", skiprows=[0,2,3],\n",
    "                na_values=['NULL']) \n",
    "\n",
    "# different sentinels can be specified for different columns\n",
    "sentinels = {'message' : ['foo', 'NA'], 'something' : ['two']}\n",
    "print(pd.read_csv(\"Datasets/ex3.csv\", skiprows=[0,2,3],\n",
    "                  na_values=sentinels))"
   ]
  },
  {
   "cell_type": "markdown",
   "metadata": {},
   "source": [
    "### Handling Big Files"
   ]
  },
  {
   "cell_type": "code",
   "execution_count": 31,
   "metadata": {
    "collapsed": false
   },
   "outputs": [
    {
     "data": {
      "text/html": [
       "<div>\n",
       "<table border=\"1\" class=\"dataframe\">\n",
       "  <thead>\n",
       "    <tr style=\"text-align: right;\">\n",
       "      <th></th>\n",
       "      <th>one</th>\n",
       "      <th>two</th>\n",
       "      <th>three</th>\n",
       "      <th>four</th>\n",
       "      <th>key</th>\n",
       "    </tr>\n",
       "  </thead>\n",
       "  <tbody>\n",
       "    <tr>\n",
       "      <th>0</th>\n",
       "      <td>0.467976</td>\n",
       "      <td>-0.038649</td>\n",
       "      <td>-0.295344</td>\n",
       "      <td>-1.824726</td>\n",
       "      <td>L</td>\n",
       "    </tr>\n",
       "    <tr>\n",
       "      <th>1</th>\n",
       "      <td>-0.358893</td>\n",
       "      <td>1.404453</td>\n",
       "      <td>0.704965</td>\n",
       "      <td>-0.200638</td>\n",
       "      <td>B</td>\n",
       "    </tr>\n",
       "    <tr>\n",
       "      <th>2</th>\n",
       "      <td>-0.501840</td>\n",
       "      <td>0.659254</td>\n",
       "      <td>-0.421691</td>\n",
       "      <td>-0.057688</td>\n",
       "      <td>G</td>\n",
       "    </tr>\n",
       "    <tr>\n",
       "      <th>3</th>\n",
       "      <td>0.204886</td>\n",
       "      <td>1.074134</td>\n",
       "      <td>1.388361</td>\n",
       "      <td>-0.982404</td>\n",
       "      <td>R</td>\n",
       "    </tr>\n",
       "    <tr>\n",
       "      <th>4</th>\n",
       "      <td>0.354628</td>\n",
       "      <td>-0.133116</td>\n",
       "      <td>0.283763</td>\n",
       "      <td>-0.837063</td>\n",
       "      <td>Q</td>\n",
       "    </tr>\n",
       "  </tbody>\n",
       "</table>\n",
       "</div>"
      ],
      "text/plain": [
       "        one       two     three      four key\n",
       "0  0.467976 -0.038649 -0.295344 -1.824726   L\n",
       "1 -0.358893  1.404453  0.704965 -0.200638   B\n",
       "2 -0.501840  0.659254 -0.421691 -0.057688   G\n",
       "3  0.204886  1.074134  1.388361 -0.982404   R\n",
       "4  0.354628 -0.133116  0.283763 -0.837063   Q"
      ]
     },
     "execution_count": 31,
     "metadata": {},
     "output_type": "execute_result"
    }
   ],
   "source": [
    "# use nrows to read out only a few lines of the file\n",
    "pd.read_csv(\"Datasets/ex4.csv\", nrows=5)"
   ]
  },
  {
   "cell_type": "code",
   "execution_count": 32,
   "metadata": {
    "collapsed": false
   },
   "outputs": [
    {
     "name": "stdout",
     "output_type": "stream",
     "text": [
      "<pandas.io.parsers.TextFileReader object at 0x10961ff98>\n"
     ]
    },
    {
     "name": "stderr",
     "output_type": "stream",
     "text": [
      "/Library/Frameworks/Python.framework/Versions/3.5/lib/python3.5/site-packages/ipykernel/__main__.py:11: FutureWarning: order is deprecated, use sort_values(...)\n"
     ]
    },
    {
     "data": {
      "text/plain": [
       "E    368\n",
       "X    364\n",
       "L    346\n",
       "O    343\n",
       "Q    340\n",
       "M    338\n",
       "J    337\n",
       "F    335\n",
       "K    334\n",
       "H    330\n",
       "dtype: float64"
      ]
     },
     "execution_count": 32,
     "metadata": {},
     "output_type": "execute_result"
    }
   ],
   "source": [
    "# Use chunksize to read out the file in pieces (i.e. chunks).\n",
    "# It will return a TextParser which you can iterate over\n",
    "chunker = pd.read_csv(\"Datasets/ex4.csv\", chunksize=1000)\n",
    "print(chunker)\n",
    "\n",
    "# Example: iterate over the chunks to aggregate value counts in the 'key' column\n",
    "tot = Series([])\n",
    "for piece in chunker:\n",
    "    tot = tot.add(piece['key'].value_counts(), fill_value=0)\n",
    "\n",
    "tot = tot.order(ascending=False)\n",
    "tot[:10]  # top 10 keys and their counts"
   ]
  },
  {
   "cell_type": "markdown",
   "metadata": {},
   "source": [
    "### Writing Out Data to Text Format"
   ]
  },
  {
   "cell_type": "code",
   "execution_count": 33,
   "metadata": {
    "collapsed": false
   },
   "outputs": [
    {
     "name": "stdout",
     "output_type": "stream",
     "text": [
      ",one,two,three,four,key\r\n",
      "0,0.467976300189,-0.0386485396255,-0.295344251987,-1.82472622729,L\r\n",
      "1,-0.358893469543,1.40445260007,0.704964644926,-0.20063830401500002,B\r\n",
      "2,-0.50184039929,0.659253707223,-0.42169061931199997,-0.0576883018364,G\r\n",
      "3,0.20488621220199998,1.07413396504,1.38836131252,-0.982404023494,R\r\n",
      "4,0.354627914484,-0.13311585229599998,0.283762637978,-0.837062961653,Q\r\n"
     ]
    }
   ],
   "source": [
    "# DataFrame's to_csv method writes it out to a .csv file\n",
    "df = pd.read_csv(\"Datasets/ex4.csv\", nrows=5)\n",
    "df.to_csv(\"Datasets/out1.csv\")\n",
    "\n",
    "!cat Datasets/out1.csv\n",
    "\n",
    "# Options:\n",
    "# - sep: to change delimiter\n",
    "# - na_rep: to change how missing values are represented (default is empty string)\n",
    "# - index=False: to remove row labels (default is True)\n",
    "# - header=False: to remove col labels (default is True)\n",
    "# - cols=[...]: to only write out columns in the list"
   ]
  },
  {
   "cell_type": "code",
   "execution_count": 34,
   "metadata": {
    "collapsed": false
   },
   "outputs": [
    {
     "name": "stdout",
     "output_type": "stream",
     "text": [
      "2015-01-01    0\n",
      "2015-01-02    1\n",
      "2015-01-03    2\n",
      "2015-01-04    3\n",
      "2015-01-05    4\n",
      "2015-01-06    5\n",
      "2015-01-07    6\n",
      "Freq: D, dtype: int64\n",
      "\n",
      "2015-01-01|0\r\n",
      "2015-01-02|1\r\n",
      "2015-01-03|2\r\n",
      "2015-01-04|3\r\n",
      "2015-01-05|4\r\n",
      "2015-01-06|5\r\n",
      "2015-01-07|6\r\n"
     ]
    }
   ],
   "source": [
    "# Series can also be written out using to_csv\n",
    "ts = Series(np.arange(7), index = pd.date_range('1/1/2015', periods=7))\n",
    "print(ts)\n",
    "print()\n",
    "ts.to_csv(\"Datasets/out2.csv\", sep=\"|\")\n",
    "\n",
    "!cat Datasets/out2.csv"
   ]
  },
  {
   "cell_type": "markdown",
   "metadata": {},
   "source": [
    "### JSON Data"
   ]
  },
  {
   "cell_type": "code",
   "execution_count": 35,
   "metadata": {
    "collapsed": false
   },
   "outputs": [],
   "source": [
    "obj = \"\"\" {\"name\": \"Wes\",\n",
    "           \"places_lived\": [\"United States\", \"Spain\", \"Germany\"], \"pet\": null,\n",
    "           \"siblings\": [{\"name\": \"Scott\", \"age\": 25, \"pet\": \"Zuko\"},\n",
    "                        {\"name\": \"Katie\", \"age\": 33, \"pet\": \"Cisco\"}]\n",
    "           } \"\"\""
   ]
  },
  {
   "cell_type": "code",
   "execution_count": 36,
   "metadata": {
    "collapsed": false
   },
   "outputs": [
    {
     "name": "stdout",
     "output_type": "stream",
     "text": [
      "{'pet': None, 'siblings': [{'name': 'Scott', 'age': 25, 'pet': 'Zuko'}, {'name': 'Katie', 'age': 33, 'pet': 'Cisco'}], 'name': 'Wes', 'places_lived': ['United States', 'Spain', 'Germany']}\n"
     ]
    },
    {
     "data": {
      "text/html": [
       "<div>\n",
       "<table border=\"1\" class=\"dataframe\">\n",
       "  <thead>\n",
       "    <tr style=\"text-align: right;\">\n",
       "      <th></th>\n",
       "      <th>name</th>\n",
       "      <th>age</th>\n",
       "    </tr>\n",
       "  </thead>\n",
       "  <tbody>\n",
       "    <tr>\n",
       "      <th>0</th>\n",
       "      <td>Scott</td>\n",
       "      <td>25</td>\n",
       "    </tr>\n",
       "    <tr>\n",
       "      <th>1</th>\n",
       "      <td>Katie</td>\n",
       "      <td>33</td>\n",
       "    </tr>\n",
       "  </tbody>\n",
       "</table>\n",
       "</div>"
      ],
      "text/plain": [
       "    name  age\n",
       "0  Scott   25\n",
       "1  Katie   33"
      ]
     },
     "execution_count": 36,
     "metadata": {},
     "output_type": "execute_result"
    }
   ],
   "source": [
    "# json.loads to convert JSON string to Python form\n",
    "import json\n",
    "result = json.loads(obj)\n",
    "print(result)\n",
    "\n",
    "# json.dumps to convert Python form to JSON\n",
    "# e.g. asjson = json.dumps(result)\n",
    "\n",
    "# take the siblings info to make a DataFrame\n",
    "siblings = DataFrame(result['siblings'], columns=['name', 'age'])\n",
    "siblings"
   ]
  },
  {
   "cell_type": "markdown",
   "metadata": {},
   "source": [
    "## Other Data Formats"
   ]
  },
  {
   "cell_type": "markdown",
   "metadata": {},
   "source": [
    "### Reading & Writing Pickles"
   ]
  },
  {
   "cell_type": "code",
   "execution_count": 37,
   "metadata": {
    "collapsed": false
   },
   "outputs": [
    {
     "name": "stdout",
     "output_type": "stream",
     "text": [
      "   a   b   c   d message\n",
      "0  1   2   3   4   hello\n",
      "1  5   6   7   8   world\n",
      "2  9  10  11  12     foo\n"
     ]
    },
    {
     "data": {
      "text/html": [
       "<div>\n",
       "<table border=\"1\" class=\"dataframe\">\n",
       "  <thead>\n",
       "    <tr style=\"text-align: right;\">\n",
       "      <th></th>\n",
       "      <th>a</th>\n",
       "      <th>b</th>\n",
       "      <th>c</th>\n",
       "      <th>d</th>\n",
       "      <th>message</th>\n",
       "    </tr>\n",
       "  </thead>\n",
       "  <tbody>\n",
       "    <tr>\n",
       "      <th>0</th>\n",
       "      <td>1</td>\n",
       "      <td>2</td>\n",
       "      <td>3</td>\n",
       "      <td>4</td>\n",
       "      <td>hello</td>\n",
       "    </tr>\n",
       "    <tr>\n",
       "      <th>1</th>\n",
       "      <td>5</td>\n",
       "      <td>6</td>\n",
       "      <td>7</td>\n",
       "      <td>8</td>\n",
       "      <td>world</td>\n",
       "    </tr>\n",
       "    <tr>\n",
       "      <th>2</th>\n",
       "      <td>9</td>\n",
       "      <td>10</td>\n",
       "      <td>11</td>\n",
       "      <td>12</td>\n",
       "      <td>foo</td>\n",
       "    </tr>\n",
       "  </tbody>\n",
       "</table>\n",
       "</div>"
      ],
      "text/plain": [
       "   a   b   c   d message\n",
       "0  1   2   3   4   hello\n",
       "1  5   6   7   8   world\n",
       "2  9  10  11  12     foo"
      ]
     },
     "execution_count": 37,
     "metadata": {},
     "output_type": "execute_result"
    }
   ],
   "source": [
    "# pandas objects have a to_pickle method to write data to disk as a pickle\n",
    "frame = pd.read_csv(\"Datasets/ex1.csv\")\n",
    "print(frame)\n",
    "frame.to_pickle(\"Datasets/ex1_pickle\")\n",
    "\n",
    "# pd.read_pickle to load a pickle\n",
    "pd.read_pickle(\"Datasets/ex1_pickle\")"
   ]
  },
  {
   "cell_type": "markdown",
   "metadata": {},
   "source": [
    "### Reading Microsoft Excel Files"
   ]
  },
  {
   "cell_type": "code",
   "execution_count": 38,
   "metadata": {
    "collapsed": true
   },
   "outputs": [],
   "source": [
    "# first, create an instance by passing path to an .xls or .xlsx file\n",
    "# e.g. xls_file = pd.ExcelFile('data.xls')\n",
    "\n",
    "# then, data stored in a sheet can be read into a DataFrame using parse\n",
    "# e.g. table = xls_file.parse('Sheet1')"
   ]
  }
 ],
 "metadata": {
  "kernelspec": {
   "display_name": "Python 3",
   "language": "python",
   "name": "python3"
  },
  "language_info": {
   "codemirror_mode": {
    "name": "ipython",
    "version": 3
   },
   "file_extension": ".py",
   "mimetype": "text/x-python",
   "name": "python",
   "nbconvert_exporter": "python",
   "pygments_lexer": "ipython3",
   "version": "3.5.0"
  }
 },
 "nbformat": 4,
 "nbformat_minor": 0
}
