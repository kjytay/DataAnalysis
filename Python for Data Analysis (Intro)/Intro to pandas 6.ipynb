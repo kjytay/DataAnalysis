{
 "cells": [
  {
   "cell_type": "code",
   "execution_count": 1,
   "metadata": {
    "collapsed": true
   },
   "outputs": [],
   "source": [
    "#####################################################################\n",
    "# Examples below are (more or less) taken from \n",
    "# “Python for Data Analysis\" by William Wesley McKinney (O’Reilly).\n",
    "# Copyright 2012 William McKinney, 978-1-449-31979-3.\n",
    "#\n",
    "# TOPICS COVERED:\n",
    "# - Date & Time Data Types\n",
    "# - Time Series Basics\n",
    "# - Time Zone Handling\n",
    "# - Periods\n",
    "# - Resampling and Frequency Conversion\n",
    "# - Time Series Plotting\n",
    "#####################################################################\n",
    "\n",
    "# This notebook is written in Python 3.\n",
    "\n",
    "from pandas import Series, DataFrame\n",
    "import pandas as pd\n",
    "import numpy as np\n",
    "from numpy import nan as NA"
   ]
  },
  {
   "cell_type": "markdown",
   "metadata": {},
   "source": [
    "## Date & Time Data Types"
   ]
  },
  {
   "cell_type": "code",
   "execution_count": 2,
   "metadata": {
    "collapsed": true
   },
   "outputs": [],
   "source": [
    "from datetime import datetime"
   ]
  },
  {
   "cell_type": "code",
   "execution_count": 3,
   "metadata": {
    "collapsed": false
   },
   "outputs": [
    {
     "name": "stdout",
     "output_type": "stream",
     "text": [
      "2015-11-10 23:06:09.347695\n",
      "2015 11 10\n"
     ]
    }
   ],
   "source": [
    "now = datetime.now()  # current time\n",
    "print(now)\n",
    "print(now.year, now.month, now.day)"
   ]
  },
  {
   "cell_type": "code",
   "execution_count": 5,
   "metadata": {
    "collapsed": false
   },
   "outputs": [
    {
     "name": "stdout",
     "output_type": "stream",
     "text": [
      "926 days, 15:45:00\n",
      "926 56700\n"
     ]
    }
   ],
   "source": [
    "# can add/subtract times\n",
    "delta = datetime(2011, 1, 7) - datetime(2008, 6, 24, 8, 15)\n",
    "print(delta)\n",
    "print(delta.days, delta.seconds)"
   ]
  },
  {
   "cell_type": "code",
   "execution_count": 7,
   "metadata": {
    "collapsed": false
   },
   "outputs": [
    {
     "name": "stdout",
     "output_type": "stream",
     "text": [
      "2011-01-19 00:00:00\n",
      "2011-01-31 00:00:00\n"
     ]
    }
   ],
   "source": [
    "# more examples of add/subtract/multiply\n",
    "from datetime import timedelta\n",
    "start = datetime(2011, 1, 7)\n",
    "print(start + timedelta(12))\n",
    "print(start + 2 * timedelta(12))"
   ]
  },
  {
   "cell_type": "code",
   "execution_count": 11,
   "metadata": {
    "collapsed": false
   },
   "outputs": [
    {
     "name": "stdout",
     "output_type": "stream",
     "text": [
      "2011-01-07 00:00:00\n",
      "2011-01-07\n"
     ]
    }
   ],
   "source": [
    "# datetime to string\n",
    "print(str(start))\n",
    "print(start.strftime('%Y-%m-%d'))"
   ]
  },
  {
   "cell_type": "code",
   "execution_count": 14,
   "metadata": {
    "collapsed": false
   },
   "outputs": [
    {
     "data": {
      "text/plain": [
       "datetime.datetime(2015, 11, 3, 0, 0)"
      ]
     },
     "execution_count": 14,
     "metadata": {},
     "output_type": "execute_result"
    }
   ],
   "source": [
    "# string to datetime\n",
    "value = '2015-11-03'\n",
    "datetime.strptime(value, '%Y-%m-%d')"
   ]
  },
  {
   "cell_type": "code",
   "execution_count": 17,
   "metadata": {
    "collapsed": false
   },
   "outputs": [
    {
     "name": "stdout",
     "output_type": "stream",
     "text": [
      "2011-01-02 00:00:00\n",
      "2015-01-31 10:45:00\n",
      "2011-12-06 00:00:00\n"
     ]
    }
   ],
   "source": [
    "# for common formats, can use dateutil's parser.parse\n",
    "from dateutil.parser import parse\n",
    "print(parse('2011-01-02'))\n",
    "print(parse('Jan 31, 2015, 10:45 AM'))\n",
    "print(parse('6/12/2011', dayfirst=True))  # if the day comes before the month"
   ]
  },
  {
   "cell_type": "code",
   "execution_count": 19,
   "metadata": {
    "collapsed": false
   },
   "outputs": [
    {
     "name": "stdout",
     "output_type": "stream",
     "text": [
      "DatetimeIndex(['2011-07-06', '2011-08-06'], dtype='datetime64[ns]', freq=None)\n",
      "DatetimeIndex(['2011-07-06', '2011-08-06', 'NaT'], dtype='datetime64[ns]', freq=None)\n"
     ]
    }
   ],
   "source": [
    "# For pandas, use to_datetime to convert strings to datetime\n",
    "datestrs = ['7/6/2011', '8/6/2011']\n",
    "print(pd.to_datetime(datestrs))\n",
    "print(pd.to_datetime(datestrs + [NA]))  # NaT is pandas's NA value for timestamps"
   ]
  },
  {
   "cell_type": "markdown",
   "metadata": {},
   "source": [
    "## Time Series Basics"
   ]
  },
  {
   "cell_type": "code",
   "execution_count": 24,
   "metadata": {
    "collapsed": false
   },
   "outputs": [
    {
     "name": "stdout",
     "output_type": "stream",
     "text": [
      "2011-01-02    1.713790\n",
      "2011-01-05   -0.679396\n",
      "2011-01-07   -1.425007\n",
      "2011-01-08    0.867405\n",
      "2011-01-10    1.300721\n",
      "2011-01-12   -0.691863\n",
      "dtype: float64\n",
      "datetime64[ns]\n"
     ]
    }
   ],
   "source": [
    "dates = [datetime(2011, 1, 2), datetime(2011, 1, 5), datetime(2011, 1, 7),\n",
    "         datetime(2011, 1, 8), datetime(2011, 1, 10), datetime(2011, 1, 12)]\n",
    "ts = Series(np.random.randn(6), index=dates)\n",
    "print(ts)\n",
    "print(ts.index.dtype)"
   ]
  },
  {
   "cell_type": "code",
   "execution_count": 25,
   "metadata": {
    "collapsed": false
   },
   "outputs": [
    {
     "data": {
      "text/plain": [
       "1.3007205212033872"
      ]
     },
     "execution_count": 25,
     "metadata": {},
     "output_type": "execute_result"
    }
   ],
   "source": [
    "ts['1/10/2011']  # can reference directly (note that the exact string doesn't match)"
   ]
  },
  {
   "cell_type": "code",
   "execution_count": 27,
   "metadata": {
    "collapsed": false
   },
   "outputs": [
    {
     "name": "stdout",
     "output_type": "stream",
     "text": [
      "2000-01-01   -1.665199\n",
      "2000-01-02   -0.817144\n",
      "2000-01-03   -0.431598\n",
      "Freq: D, dtype: float64\n",
      "2002-09-24   -1.127140\n",
      "2002-09-25   -0.842726\n",
      "2002-09-26    0.144689\n",
      "Freq: D, dtype: float64\n"
     ]
    }
   ],
   "source": [
    "# For long time series, a year or only a year & month can be passed in\n",
    "# to select slices of data\n",
    "longer_ts = Series(np.random.randn(1000),\n",
    "                   index=pd.date_range('1/1/2000', periods=1000))\n",
    "print(longer_ts.head(3))\n",
    "print(longer_ts.tail(3))"
   ]
  },
  {
   "cell_type": "code",
   "execution_count": 29,
   "metadata": {
    "collapsed": false
   },
   "outputs": [
    {
     "name": "stdout",
     "output_type": "stream",
     "text": [
      "365\n",
      "31\n"
     ]
    }
   ],
   "source": [
    "print(len(longer_ts['2001']))\n",
    "print(len(longer_ts['2001-01']))"
   ]
  },
  {
   "cell_type": "code",
   "execution_count": 30,
   "metadata": {
    "collapsed": false
   },
   "outputs": [
    {
     "data": {
      "text/plain": [
       "2000-02-01   -0.317186\n",
       "2000-02-02   -0.157054\n",
       "2000-02-03   -0.162598\n",
       "2000-02-04   -0.043542\n",
       "2000-02-05   -0.549256\n",
       "2000-02-06    0.310391\n",
       "2000-02-07   -0.640966\n",
       "Freq: D, dtype: float64"
      ]
     },
     "execution_count": 30,
     "metadata": {},
     "output_type": "execute_result"
    }
   ],
   "source": [
    "longer_ts['2000-02-01':'2000-02-07']  # endpoints included"
   ]
  },
  {
   "cell_type": "code",
   "execution_count": 33,
   "metadata": {
    "collapsed": false
   },
   "outputs": [
    {
     "name": "stdout",
     "output_type": "stream",
     "text": [
      "2000-01-01    0\n",
      "2000-01-02    1\n",
      "2000-01-02    2\n",
      "2000-01-02    3\n",
      "2000-01-03    4\n",
      "dtype: int64\n",
      "False\n"
     ]
    }
   ],
   "source": [
    "# Time series with duplicate indices\n",
    "dates = pd.DatetimeIndex(['1/1/2000', '1/2/2000', '1/2/2000',\n",
    "                          '1/2/2000', '1/3/2000'])\n",
    "dup_ts = Series(np.arange(5), index=dates)\n",
    "print(dup_ts)\n",
    "print(dup_ts.index.is_unique)  # this tells us index is not unique"
   ]
  },
  {
   "cell_type": "code",
   "execution_count": 34,
   "metadata": {
    "collapsed": false
   },
   "outputs": [
    {
     "data": {
      "text/plain": [
       "2000-01-02    1\n",
       "2000-01-02    2\n",
       "2000-01-02    3\n",
       "dtype: int64"
      ]
     },
     "execution_count": 34,
     "metadata": {},
     "output_type": "execute_result"
    }
   ],
   "source": [
    "dup_ts['1/2/2000']"
   ]
  },
  {
   "cell_type": "code",
   "execution_count": 36,
   "metadata": {
    "collapsed": false
   },
   "outputs": [
    {
     "name": "stdout",
     "output_type": "stream",
     "text": [
      "2011-01-02    1.713790\n",
      "2011-01-05   -0.679396\n",
      "2011-01-07   -1.425007\n",
      "2011-01-08    0.867405\n",
      "2011-01-10    1.300721\n",
      "2011-01-12   -0.691863\n",
      "dtype: float64\n",
      "2011-01-02    1.713790\n",
      "2011-01-03         NaN\n",
      "2011-01-04         NaN\n",
      "2011-01-05   -0.679396\n",
      "2011-01-06         NaN\n",
      "2011-01-07   -1.425007\n",
      "2011-01-08    0.867405\n",
      "2011-01-09         NaN\n",
      "2011-01-10    1.300721\n",
      "2011-01-11         NaN\n",
      "2011-01-12   -0.691863\n",
      "Freq: D, dtype: float64\n"
     ]
    }
   ],
   "source": [
    "# Use resample to convert a time series to fixed frequency\n",
    "print(ts)\n",
    "print(ts.resample('D'))  # one row for each day"
   ]
  },
  {
   "cell_type": "code",
   "execution_count": 44,
   "metadata": {
    "collapsed": false
   },
   "outputs": [
    {
     "name": "stdout",
     "output_type": "stream",
     "text": [
      "DatetimeIndex(['2000-01-01', '2000-01-02', '2000-01-03', '2000-01-04'], dtype='datetime64[ns]', freq='D')\n",
      "DatetimeIndex(['2000-01-01', '2000-01-02', '2000-01-03'], dtype='datetime64[ns]', freq='D')\n",
      "DatetimeIndex(['2000-01-01 00:00:00', '2000-01-01 01:00:00',\n",
      "               '2000-01-01 02:00:00'],\n",
      "              dtype='datetime64[ns]', freq='H')\n",
      "DatetimeIndex(['2000-01-01 00:00:00', '2000-01-01 06:00:00',\n",
      "               '2000-01-01 12:00:00'],\n",
      "              dtype='datetime64[ns]', freq='6H')\n",
      "DatetimeIndex(['2000-01-01 00:00:00', '2000-01-01 01:30:00',\n",
      "               '2000-01-01 03:00:00'],\n",
      "              dtype='datetime64[ns]', freq='90T')\n",
      "DatetimeIndex(['2012-01-20', '2012-02-17', '2012-03-16', '2012-04-20',\n",
      "               '2012-05-18', '2012-06-15', '2012-07-20', '2012-08-17'],\n",
      "              dtype='datetime64[ns]', freq='WOM-3FRI')\n"
     ]
    }
   ],
   "source": [
    "# pd.date_range\n",
    "print(pd.date_range('2000-01-01', '2000-01-04'))\n",
    "print(pd.date_range(start='2000-01-01', periods=3))             # 3 periods (daily)\n",
    "print(pd.date_range(start='2000-01-01', periods=3, freq='H'))   # 3 periods (hourly)\n",
    "print(pd.date_range(start='2000-01-01', periods=3, freq='6H'))  # 3 periods (6-hourly)\n",
    "print(pd.date_range(start='2000-01-01', periods=3, freq='1h30min'))  # 3 periods (1.5-hourly)\n",
    "print(pd.date_range('1/1/2012', '9/1/2012', freq='WOM-3FRI'))  # 3rd Friday of each month"
   ]
  },
  {
   "cell_type": "code",
   "execution_count": 47,
   "metadata": {
    "collapsed": false
   },
   "outputs": [
    {
     "name": "stdout",
     "output_type": "stream",
     "text": [
      "2000-01-31    0.000363\n",
      "2000-02-29    0.785459\n",
      "2000-03-31    2.870457\n",
      "2000-04-30    0.114722\n",
      "Freq: M, dtype: float64\n",
      "2000-01-31         NaN\n",
      "2000-02-29         NaN\n",
      "2000-03-31    0.000363\n",
      "2000-04-30    0.785459\n",
      "Freq: M, dtype: float64\n"
     ]
    }
   ],
   "source": [
    "# shift data back and forth\n",
    "ts = Series(np.random.randn(4)**2,\n",
    "            index=pd.date_range('1/1/2000', periods=4, freq='M'))\n",
    "print(ts)\n",
    "print(ts.shift(2))"
   ]
  },
  {
   "cell_type": "code",
   "execution_count": 48,
   "metadata": {
    "collapsed": false
   },
   "outputs": [
    {
     "data": {
      "text/plain": [
       "2000-01-31            NaN\n",
       "2000-02-29    2164.730609\n",
       "2000-03-31       2.654497\n",
       "2000-04-30      -0.960033\n",
       "Freq: M, dtype: float64"
      ]
     },
     "execution_count": 48,
     "metadata": {},
     "output_type": "execute_result"
    }
   ],
   "source": [
    "# common use of shift is to compute percent changes\n",
    "ts / ts.shift(1) - 1"
   ]
  },
  {
   "cell_type": "code",
   "execution_count": 49,
   "metadata": {
    "collapsed": false
   },
   "outputs": [
    {
     "data": {
      "text/plain": [
       "2000-03-31    0.000363\n",
       "2000-04-30    0.785459\n",
       "2000-05-31    2.870457\n",
       "2000-06-30    0.114722\n",
       "Freq: M, dtype: float64"
      ]
     },
     "execution_count": 49,
     "metadata": {},
     "output_type": "execute_result"
    }
   ],
   "source": [
    "# if frequency is known, timestamps can be shifted (instead of the data) so that\n",
    "# no data is lost\n",
    "ts.shift(2, freq='M')"
   ]
  },
  {
   "cell_type": "markdown",
   "metadata": {},
   "source": [
    "## Time Zone Handling"
   ]
  },
  {
   "cell_type": "code",
   "execution_count": 51,
   "metadata": {
    "collapsed": false
   },
   "outputs": [
    {
     "data": {
      "text/plain": [
       "['US/Eastern', 'US/Hawaii', 'US/Mountain', 'US/Pacific', 'UTC']"
      ]
     },
     "execution_count": 51,
     "metadata": {},
     "output_type": "execute_result"
    }
   ],
   "source": [
    "# timezone info in python is in pytz library\n",
    "import pytz\n",
    "pytz.common_timezones[-5:]"
   ]
  },
  {
   "cell_type": "code",
   "execution_count": 52,
   "metadata": {
    "collapsed": false
   },
   "outputs": [
    {
     "data": {
      "text/plain": [
       "<DstTzInfo 'US/Eastern' LMT-1 day, 19:04:00 STD>"
      ]
     },
     "execution_count": 52,
     "metadata": {},
     "output_type": "execute_result"
    }
   ],
   "source": [
    "# pytz.timezone to get time zone object\n",
    "tz = pytz.timezone('US/Eastern')\n",
    "tz"
   ]
  },
  {
   "cell_type": "code",
   "execution_count": 54,
   "metadata": {
    "collapsed": false
   },
   "outputs": [
    {
     "data": {
      "text/plain": [
       "2012-03-09 09:30:00   -0.298841\n",
       "2012-03-10 09:30:00    0.626037\n",
       "2012-03-11 09:30:00   -1.998264\n",
       "2012-03-12 09:30:00   -0.101267\n",
       "2012-03-13 09:30:00    0.146820\n",
       "2012-03-14 09:30:00   -1.356152\n",
       "Freq: D, dtype: float64"
      ]
     },
     "execution_count": 54,
     "metadata": {},
     "output_type": "execute_result"
    }
   ],
   "source": [
    "rng = pd.date_range('3/9/2012 9:30', periods=6, freq='D')\n",
    "ts = Series(np.random.randn(len(rng)), index=rng)\n",
    "ts"
   ]
  },
  {
   "cell_type": "code",
   "execution_count": 57,
   "metadata": {
    "collapsed": false
   },
   "outputs": [
    {
     "name": "stdout",
     "output_type": "stream",
     "text": [
      "None\n",
      "UTC\n"
     ]
    }
   ],
   "source": [
    "# by default, time series in pandas are \"time zone naive\"\n",
    "print(ts.index.tz)\n",
    "\n",
    "# use tz_localize to give it a timezone\n",
    "ts_utc = ts.tz_localize('UTC')\n",
    "print(ts_utc.index.tz)"
   ]
  },
  {
   "cell_type": "code",
   "execution_count": 56,
   "metadata": {
    "collapsed": false
   },
   "outputs": [
    {
     "data": {
      "text/plain": [
       "DatetimeIndex(['2012-03-09 09:30:00+00:00', '2012-03-10 09:30:00+00:00',\n",
       "               '2012-03-11 09:30:00+00:00', '2012-03-12 09:30:00+00:00',\n",
       "               '2012-03-13 09:30:00+00:00'],\n",
       "              dtype='datetime64[ns, UTC]', freq='D')"
      ]
     },
     "execution_count": 56,
     "metadata": {},
     "output_type": "execute_result"
    }
   ],
   "source": [
    "# data ranges can be generated with timezones\n",
    "pd.date_range('3/9/2012 9:30', periods=5, freq='D', tz='UTC')"
   ]
  },
  {
   "cell_type": "code",
   "execution_count": 59,
   "metadata": {
    "collapsed": false
   },
   "outputs": [
    {
     "name": "stdout",
     "output_type": "stream",
     "text": [
      "2012-03-09 09:30:00+00:00   -0.298841\n",
      "2012-03-10 09:30:00+00:00    0.626037\n",
      "2012-03-11 09:30:00+00:00   -1.998264\n",
      "2012-03-12 09:30:00+00:00   -0.101267\n",
      "2012-03-13 09:30:00+00:00    0.146820\n",
      "2012-03-14 09:30:00+00:00   -1.356152\n",
      "Freq: D, dtype: float64\n",
      "2012-03-09 04:30:00-05:00   -0.298841\n",
      "2012-03-10 04:30:00-05:00    0.626037\n",
      "2012-03-11 05:30:00-04:00   -1.998264\n",
      "2012-03-12 05:30:00-04:00   -0.101267\n",
      "2012-03-13 05:30:00-04:00    0.146820\n",
      "2012-03-14 05:30:00-04:00   -1.356152\n",
      "Freq: D, dtype: float64\n"
     ]
    }
   ],
   "source": [
    "# convert to a different timezone\n",
    "print(ts_utc)\n",
    "print(ts_utc.tz_convert('US/Eastern'))  # notice that it straddles a DST transition"
   ]
  },
  {
   "cell_type": "markdown",
   "metadata": {},
   "source": [
    "## Periods"
   ]
  },
  {
   "cell_type": "code",
   "execution_count": 60,
   "metadata": {
    "collapsed": false
   },
   "outputs": [
    {
     "data": {
      "text/plain": [
       "Period('2007', 'A-DEC')"
      ]
     },
     "execution_count": 60,
     "metadata": {},
     "output_type": "execute_result"
    }
   ],
   "source": [
    "# periods represent time spans\n",
    "# p below represents full timespan from 1 Jan 2007 to 31 Dec 2007\n",
    "p = pd.Period(2007, freq='A-DEC')\n",
    "p"
   ]
  },
  {
   "cell_type": "code",
   "execution_count": 61,
   "metadata": {
    "collapsed": false
   },
   "outputs": [
    {
     "data": {
      "text/plain": [
       "Period('2012', 'A-DEC')"
      ]
     },
     "execution_count": 61,
     "metadata": {},
     "output_type": "execute_result"
    }
   ],
   "source": [
    "p + 5"
   ]
  },
  {
   "cell_type": "code",
   "execution_count": 62,
   "metadata": {
    "collapsed": false
   },
   "outputs": [
    {
     "data": {
      "text/plain": [
       "PeriodIndex(['2000-01', '2000-02', '2000-03', '2000-04', '2000-05', '2000-06'], dtype='int64', freq='M')"
      ]
     },
     "execution_count": 62,
     "metadata": {},
     "output_type": "execute_result"
    }
   ],
   "source": [
    "rng = pd.period_range('1/1/2000', '6/30/2000', freq='M')\n",
    "rng"
   ]
  },
  {
   "cell_type": "code",
   "execution_count": 63,
   "metadata": {
    "collapsed": false
   },
   "outputs": [
    {
     "name": "stdout",
     "output_type": "stream",
     "text": [
      "2007-01\n",
      "2007-12\n"
     ]
    }
   ],
   "source": [
    "# convert an annual period to a month period\n",
    "print(p.asfreq('M', how='start'))  # at start of year\n",
    "print(p.asfreq('M', how='end'))    # at end of year"
   ]
  },
  {
   "cell_type": "code",
   "execution_count": 68,
   "metadata": {
    "collapsed": false
   },
   "outputs": [
    {
     "name": "stdout",
     "output_type": "stream",
     "text": [
      "2000-01-31    0.000350\n",
      "2000-02-29   -2.208299\n",
      "2000-03-31    0.335081\n",
      "Freq: M, dtype: float64\n",
      "2000-01    0.000350\n",
      "2000-02   -2.208299\n",
      "2000-03    0.335081\n",
      "Freq: M, dtype: float64\n",
      "2000-01-31    0.000350\n",
      "2000-02-29   -2.208299\n",
      "2000-03-31    0.335081\n",
      "Freq: M, dtype: float64\n"
     ]
    }
   ],
   "source": [
    "# convert timestamps to periods\n",
    "rng = pd.date_range('1/1/2000', periods=3, freq='M')\n",
    "ts = Series(np.random.randn(3), index=rng)\n",
    "print(ts)\n",
    "pts = ts.to_period()\n",
    "print(pts)\n",
    "\n",
    "# convert back to timestamps\n",
    "print(pts.to_timestamp(how='end'))"
   ]
  },
  {
   "cell_type": "markdown",
   "metadata": {},
   "source": [
    "# Resampling and Frequency Conversion"
   ]
  },
  {
   "cell_type": "code",
   "execution_count": 70,
   "metadata": {
    "collapsed": false
   },
   "outputs": [
    {
     "name": "stdout",
     "output_type": "stream",
     "text": [
      "2000-01-31   -0.197392\n",
      "2000-02-29    0.201976\n",
      "2000-03-31   -0.121593\n",
      "2000-04-30   -0.067534\n",
      "Freq: M, dtype: float64\n",
      "2000-01   -0.197392\n",
      "2000-02    0.201976\n",
      "2000-03   -0.121593\n",
      "2000-04   -0.067534\n",
      "Freq: M, dtype: float64\n"
     ]
    }
   ],
   "source": [
    "rng = pd.date_range('1/1/2000', periods=100, freq='D')\n",
    "ts = Series(np.random.randn(len(rng)), index=rng)\n",
    "print(ts.resample('M', how='mean'))  # group into months, take the mean of data\n",
    "print(ts.resample('M', how='mean', kind='period'))  # as above, but index is a period"
   ]
  },
  {
   "cell_type": "code",
   "execution_count": 71,
   "metadata": {
    "collapsed": false
   },
   "outputs": [
    {
     "data": {
      "text/plain": [
       "2000-01-01 00:00:00     0\n",
       "2000-01-01 00:01:00     1\n",
       "2000-01-01 00:02:00     2\n",
       "2000-01-01 00:03:00     3\n",
       "2000-01-01 00:04:00     4\n",
       "2000-01-01 00:05:00     5\n",
       "2000-01-01 00:06:00     6\n",
       "2000-01-01 00:07:00     7\n",
       "2000-01-01 00:08:00     8\n",
       "2000-01-01 00:09:00     9\n",
       "2000-01-01 00:10:00    10\n",
       "2000-01-01 00:11:00    11\n",
       "Freq: T, dtype: int64"
      ]
     },
     "execution_count": 71,
     "metadata": {},
     "output_type": "execute_result"
    }
   ],
   "source": [
    "rng = pd.date_range('1/1/2000', periods=12, freq='T')\n",
    "ts = Series(np.arange(12), index=rng)\n",
    "ts"
   ]
  },
  {
   "cell_type": "code",
   "execution_count": 74,
   "metadata": {
    "collapsed": false
   },
   "outputs": [
    {
     "name": "stdout",
     "output_type": "stream",
     "text": [
      "2000-01-01 00:00:00    10\n",
      "2000-01-01 00:05:00    35\n",
      "2000-01-01 00:10:00    21\n",
      "Freq: 5T, dtype: int64\n",
      "2000-01-01 00:00:00    10\n",
      "2000-01-01 00:05:00    35\n",
      "2000-01-01 00:10:00    21\n",
      "Freq: 5T, dtype: int64\n",
      "1999-12-31 23:55:00     0\n",
      "2000-01-01 00:00:00    15\n",
      "2000-01-01 00:05:00    40\n",
      "2000-01-01 00:10:00    11\n",
      "Freq: 5T, dtype: int64\n"
     ]
    }
   ],
   "source": [
    "# Sum of 5-min chunks: [0:00, 5:00), [5:00, 10:00), ...\n",
    "print(ts.resample('5min', how='sum'))\n",
    "print(ts.resample('5min', how='sum', closed='left'))  # same as above\n",
    "\n",
    "# Sum of 5-min chunks: (0:00, 5:00], (5:00, 10:00], ...\n",
    "print(ts.resample('5min', how='sum', closed='right'))"
   ]
  },
  {
   "cell_type": "code",
   "execution_count": 75,
   "metadata": {
    "collapsed": false
   },
   "outputs": [
    {
     "data": {
      "text/html": [
       "<div>\n",
       "<table border=\"1\" class=\"dataframe\">\n",
       "  <thead>\n",
       "    <tr style=\"text-align: right;\">\n",
       "      <th></th>\n",
       "      <th>open</th>\n",
       "      <th>high</th>\n",
       "      <th>low</th>\n",
       "      <th>close</th>\n",
       "    </tr>\n",
       "  </thead>\n",
       "  <tbody>\n",
       "    <tr>\n",
       "      <th>2000-01-01 00:00:00</th>\n",
       "      <td>0</td>\n",
       "      <td>4</td>\n",
       "      <td>0</td>\n",
       "      <td>4</td>\n",
       "    </tr>\n",
       "    <tr>\n",
       "      <th>2000-01-01 00:05:00</th>\n",
       "      <td>5</td>\n",
       "      <td>9</td>\n",
       "      <td>5</td>\n",
       "      <td>9</td>\n",
       "    </tr>\n",
       "    <tr>\n",
       "      <th>2000-01-01 00:10:00</th>\n",
       "      <td>10</td>\n",
       "      <td>11</td>\n",
       "      <td>10</td>\n",
       "      <td>11</td>\n",
       "    </tr>\n",
       "  </tbody>\n",
       "</table>\n",
       "</div>"
      ],
      "text/plain": [
       "                     open  high  low  close\n",
       "2000-01-01 00:00:00     0     4    0      4\n",
       "2000-01-01 00:05:00     5     9    5      9\n",
       "2000-01-01 00:10:00    10    11   10     11"
      ]
     },
     "execution_count": 75,
     "metadata": {},
     "output_type": "execute_result"
    }
   ],
   "source": [
    "# Open-High-Low-Close (usually for financial data)\n",
    "ts.resample('5min', how='ohlc')"
   ]
  },
  {
   "cell_type": "markdown",
   "metadata": {},
   "source": [
    "## Time Series Plotting"
   ]
  },
  {
   "cell_type": "code",
   "execution_count": 76,
   "metadata": {
    "collapsed": true
   },
   "outputs": [],
   "source": [
    "import matplotlib.pyplot as plt\n",
    "%matplotlib inline"
   ]
  },
  {
   "cell_type": "code",
   "execution_count": 80,
   "metadata": {
    "collapsed": false
   },
   "outputs": [
    {
     "name": "stdout",
     "output_type": "stream",
     "text": [
      "2292\n"
     ]
    },
    {
     "data": {
      "text/html": [
       "<div>\n",
       "<table border=\"1\" class=\"dataframe\">\n",
       "  <thead>\n",
       "    <tr style=\"text-align: right;\">\n",
       "      <th></th>\n",
       "      <th>AAPL</th>\n",
       "      <th>MSFT</th>\n",
       "      <th>XOM</th>\n",
       "    </tr>\n",
       "  </thead>\n",
       "  <tbody>\n",
       "    <tr>\n",
       "      <th>2003-01-02</th>\n",
       "      <td>7.40</td>\n",
       "      <td>21.11</td>\n",
       "      <td>29.22</td>\n",
       "    </tr>\n",
       "    <tr>\n",
       "      <th>2003-01-03</th>\n",
       "      <td>7.45</td>\n",
       "      <td>21.14</td>\n",
       "      <td>29.24</td>\n",
       "    </tr>\n",
       "    <tr>\n",
       "      <th>2003-01-06</th>\n",
       "      <td>7.45</td>\n",
       "      <td>21.52</td>\n",
       "      <td>29.96</td>\n",
       "    </tr>\n",
       "    <tr>\n",
       "      <th>2003-01-07</th>\n",
       "      <td>7.43</td>\n",
       "      <td>21.93</td>\n",
       "      <td>28.95</td>\n",
       "    </tr>\n",
       "    <tr>\n",
       "      <th>2003-01-08</th>\n",
       "      <td>7.28</td>\n",
       "      <td>21.31</td>\n",
       "      <td>28.83</td>\n",
       "    </tr>\n",
       "  </tbody>\n",
       "</table>\n",
       "</div>"
      ],
      "text/plain": [
       "            AAPL   MSFT    XOM\n",
       "2003-01-02  7.40  21.11  29.22\n",
       "2003-01-03  7.45  21.14  29.24\n",
       "2003-01-06  7.45  21.52  29.96\n",
       "2003-01-07  7.43  21.93  28.95\n",
       "2003-01-08  7.28  21.31  28.83"
      ]
     },
     "execution_count": 80,
     "metadata": {},
     "output_type": "execute_result"
    }
   ],
   "source": [
    "close_px_all = pd.read_csv('Datasets/stock_px.csv', parse_dates=True, index_col=0)\n",
    "close_px = close_px_all[['AAPL', 'MSFT', 'XOM']]\n",
    "close_px = close_px.resample('B', fill_method='ffill')\n",
    "print(len(close_px))\n",
    "close_px.head(5)"
   ]
  },
  {
   "cell_type": "code",
   "execution_count": 90,
   "metadata": {
    "collapsed": false
   },
   "outputs": [
    {
     "data": {
      "image/png": "[encoded data removed]",
      "text/plain": [
       "<matplotlib.figure.Figure at 0x10a5937f0>"
      ]
     },
     "metadata": {},
     "output_type": "display_data"
    }
   ],
   "source": [
    "# plot historical price for AAPL\n",
    "plt.figure(figsize=(12,4))\n",
    "close_px['AAPL'].plot()\n",
    "plt.show()"
   ]
  },
  {
   "cell_type": "code",
   "execution_count": 93,
   "metadata": {
    "collapsed": false
   },
   "outputs": [
    {
     "data": {
      "text/plain": [
       "<matplotlib.axes._subplots.AxesSubplot at 0x109f63ef0>"
      ]
     },
     "execution_count": 93,
     "metadata": {},
     "output_type": "execute_result"
    },
    {
     "data": {
      "image/png": "[encoded data removed]",
      "text/plain": [
       "<matplotlib.figure.Figure at 0x10b457080>"
      ]
     },
     "metadata": {},
     "output_type": "display_data"
    }
   ],
   "source": [
    "# plot 2009 prices\n",
    "close_px.ix['2009'].plot()"
   ]
  },
  {
   "cell_type": "code",
   "execution_count": 94,
   "metadata": {
    "collapsed": false
   },
   "outputs": [
    {
     "data": {
      "text/plain": [
       "<matplotlib.axes._subplots.AxesSubplot at 0x1097846a0>"
      ]
     },
     "execution_count": 94,
     "metadata": {},
     "output_type": "execute_result"
    },
    {
     "data": {
      "image/png": "[encoded data removed]",
      "text/plain": [
       "<matplotlib.figure.Figure at 0x1097810b8>"
      ]
     },
     "metadata": {},
     "output_type": "display_data"
    }
   ],
   "source": [
    "# AAPL stock price for 3 months (Jan-Mar 2011)\n",
    "close_px['AAPL'].ix['01-2011':'03-2011'].plot()"
   ]
  },
  {
   "cell_type": "code",
   "execution_count": 97,
   "metadata": {
    "collapsed": false
   },
   "outputs": [
    {
     "data": {
      "image/png": "[encoded data removed]",
      "text/plain": [
       "<matplotlib.figure.Figure at 0x10b179be0>"
      ]
     },
     "metadata": {},
     "output_type": "display_data"
    }
   ],
   "source": [
    "# rolling mean\n",
    "close_px.AAPL.plot()\n",
    "pd.rolling_mean(close_px.AAPL, 250).plot()  # 250-day moving average\n",
    "plt.show()"
   ]
  },
  {
   "cell_type": "code",
   "execution_count": 99,
   "metadata": {
    "collapsed": false
   },
   "outputs": [
    {
     "data": {
      "image/png": "[encoded data removed]",
      "text/plain": [
       "<matplotlib.figure.Figure at 0x10a57d160>"
      ]
     },
     "metadata": {},
     "output_type": "display_data"
    }
   ],
   "source": [
    "# 60-day rolling mean with log-scale for y-axis\n",
    "pd.rolling_mean(close_px, 60).plot(logy=True)\n",
    "plt.show()"
   ]
  },
  {
   "cell_type": "code",
   "execution_count": 105,
   "metadata": {
    "collapsed": false
   },
   "outputs": [
    {
     "data": {
      "image/png": "[encoded data removed]",
      "text/plain": [
       "<matplotlib.figure.Figure at 0x10cca9f98>"
      ]
     },
     "metadata": {},
     "output_type": "display_data"
    }
   ],
   "source": [
    "# can also do exponentially-weighted functions\n",
    "fig, axes = plt.subplots(nrows=2, ncols=1,\n",
    "                         sharex=True, sharey=True,\n",
    "                         figsize=(12, 7))\n",
    "\n",
    "aapl_px = close_px.AAPL['2005':'2009']\n",
    "ma60 = pd.rolling_mean(aapl_px, 60, min_periods=50)\n",
    "ewma60 = pd.ewma(aapl_px, span=60)\n",
    "\n",
    "aapl_px.plot(style='b-', ax=axes[0])\n",
    "ma60.plot(style='g.', ax=axes[0])\n",
    "aapl_px.plot(style='b-', ax=axes[1])\n",
    "ewma60.plot(style='g.', ax=axes[1])\n",
    "axes[0].set_title('Simple MA')\n",
    "axes[1].set_title('Exponentially-weighted MA')\n",
    "plt.show()"
   ]
  }
 ],
 "metadata": {
  "kernelspec": {
   "display_name": "Python 3",
   "language": "python",
   "name": "python3"
  },
  "language_info": {
   "codemirror_mode": {
    "name": "ipython",
    "version": 3
   },
   "file_extension": ".py",
   "mimetype": "text/x-python",
   "name": "python",
   "nbconvert_exporter": "python",
   "pygments_lexer": "ipython3",
   "version": "3.5.0"
  }
 },
 "nbformat": 4,
 "nbformat_minor": 0
}
