{
 "cells": [
  {
   "cell_type": "code",
   "execution_count": 2,
   "metadata": {
    "collapsed": true
   },
   "outputs": [],
   "source": [
    "###############################################################\n",
    "# Examples below are (more or less) taken from Wes McKinney's\n",
    "# \"Python for Data Analysis\".\n",
    "# TOPICS COVERED:\n",
    "# - Intro to Series\n",
    "# - Intro to DataFrame\n",
    "# - Statistics for DataFrame\n",
    "# - Handling Missing Data\n",
    "###############################################################\n",
    "\n",
    "# This notebook is written in Python 3.\n",
    "\n",
    "from pandas import Series, DataFrame\n",
    "import pandas as pd\n",
    "import numpy as np\n",
    "from numpy import nan as NA"
   ]
  },
  {
   "cell_type": "markdown",
   "metadata": {},
   "source": [
    "## Introduction to Series\n",
    "Series: 1D array-like object with an array of data & assoc. array of data labels.  \n",
    "Can think of Series as a fixed-length, ordered dict."
   ]
  },
  {
   "cell_type": "code",
   "execution_count": 50,
   "metadata": {
    "collapsed": false
   },
   "outputs": [
    {
     "name": "stdout",
     "output_type": "stream",
     "text": [
      "a    4\n",
      "b    5\n",
      "d    6\n",
      "c    7\n",
      "dtype: int64\n",
      "[4 5 6 7]\n",
      "Index(['a', 'b', 'd', 'c'], dtype='object')\n"
     ]
    }
   ],
   "source": [
    "obj = Series([4, 5, 6, 7], index=['a','b','d','c'])  # index optional, default is [0,1,...]\n",
    "print(obj)\n",
    "print(obj.values)\n",
    "print(obj.index)"
   ]
  },
  {
   "cell_type": "code",
   "execution_count": 51,
   "metadata": {
    "collapsed": false
   },
   "outputs": [
    {
     "name": "stdout",
     "output_type": "stream",
     "text": [
      "Ohio     1000\n",
      "Texas    2000\n",
      "Utah     5000\n",
      "dtype: int64\n"
     ]
    }
   ],
   "source": [
    "# Can create a Series by passing a Python dict\n",
    "obj = Series({'Ohio':1000, 'Texas':2000, 'Utah':5000})\n",
    "print(obj)"
   ]
  },
  {
   "cell_type": "code",
   "execution_count": 52,
   "metadata": {
    "collapsed": false
   },
   "outputs": [
    {
     "name": "stdout",
     "output_type": "stream",
     "text": [
      "California     NaN\n",
      "Ohio          1000\n",
      "Texas         2000\n",
      "Utah          5000\n",
      "dtype: float64\n"
     ]
    },
    {
     "data": {
      "text/plain": [
       "California     True\n",
       "Ohio          False\n",
       "Texas         False\n",
       "Utah          False\n",
       "dtype: bool"
      ]
     },
     "execution_count": 52,
     "metadata": {},
     "output_type": "execute_result"
    }
   ],
   "source": [
    "# isnull & notnull methods to detect if something is true or not\n",
    "obj = Series({'Ohio':1000, 'Texas':2000, 'Utah':5000}, \n",
    "             index = ['California', 'Ohio', 'Texas', 'Utah'])\n",
    "print(obj)\n",
    "obj.isnull()"
   ]
  },
  {
   "cell_type": "code",
   "execution_count": 53,
   "metadata": {
    "collapsed": false
   },
   "outputs": [
    {
     "name": "stdout",
     "output_type": "stream",
     "text": [
      "California     NaN\n",
      "Ohio          1000\n",
      "Texas         2000\n",
      "Utah          5000\n",
      "dtype: float64\n",
      "Ohio       500\n",
      "Texas       20\n",
      "Utah        50\n",
      "Wyoming      2\n",
      "dtype: int64\n",
      "California     NaN\n",
      "Ohio          1500\n",
      "Texas         2020\n",
      "Utah          5050\n",
      "Wyoming        NaN\n",
      "dtype: float64\n"
     ]
    }
   ],
   "source": [
    "# You can add Series together, it automatically aligns the indexed data.\n",
    "obj2 = Series({'Ohio':500, 'Texas':20, 'Utah':50, 'Wyoming':2})\n",
    "print(obj)\n",
    "print(obj2)\n",
    "print(obj + obj2)"
   ]
  },
  {
   "cell_type": "code",
   "execution_count": 54,
   "metadata": {
    "collapsed": false
   },
   "outputs": [
    {
     "data": {
      "text/plain": [
       "State\n",
       "California     NaN\n",
       "Ohio          1000\n",
       "Texas         2000\n",
       "Utah          5000\n",
       "Name: Population, dtype: float64"
      ]
     },
     "execution_count": 54,
     "metadata": {},
     "output_type": "execute_result"
    }
   ],
   "source": [
    "# Series object and its index can have a name attribute.\n",
    "obj.name = \"Population\"\n",
    "obj.index.name = \"State\"\n",
    "obj"
   ]
  },
  {
   "cell_type": "code",
   "execution_count": 80,
   "metadata": {
    "collapsed": false
   },
   "outputs": [
    {
     "name": "stdout",
     "output_type": "stream",
     "text": [
      "0     4\n",
      "1   NaN\n",
      "2     7\n",
      "3   NaN\n",
      "4    -3\n",
      "5     2\n",
      "dtype: float64\n",
      "4    -3\n",
      "5     2\n",
      "0     4\n",
      "2     7\n",
      "1   NaN\n",
      "3   NaN\n",
      "dtype: float64\n",
      "0     3\n",
      "1   NaN\n",
      "2     4\n",
      "3   NaN\n",
      "4     1\n",
      "5     2\n",
      "dtype: float64\n"
     ]
    },
    {
     "name": "stderr",
     "output_type": "stream",
     "text": [
      "/Library/Frameworks/Python.framework/Versions/3.5/lib/python3.5/site-packages/ipykernel/__main__.py:4: FutureWarning: order is deprecated, use sort_values(...)\n"
     ]
    }
   ],
   "source": [
    "# Sorting an array. Missing values put to the end by default\n",
    "obj = Series([4, np.nan, 7, np.nan, -3, 2])\n",
    "print(obj)\n",
    "print(obj.order())\n",
    "\n",
    "# Ranking an array\n",
    "print(obj.rank())\n",
    "# If there are ties, they are all given the mean rank.\n",
    "# To break ties by the order they appear in order: obj.rank(method='first')\n",
    "# To rank in descending order: obj.rank(ascending=False, method='max')"
   ]
  },
  {
   "cell_type": "markdown",
   "metadata": {},
   "source": [
    "## Introduction to DataFrame\n",
    "DataFrame represents a tabular, spreadsheet-like data structure.\n",
    "Can be thought of as a dict of Series (all sharing the same index)."
   ]
  },
  {
   "cell_type": "code",
   "execution_count": 55,
   "metadata": {
    "collapsed": false
   },
   "outputs": [
    {
     "data": {
      "text/html": [
       "<div>\n",
       "<table border=\"1\" class=\"dataframe\">\n",
       "  <thead>\n",
       "    <tr style=\"text-align: right;\">\n",
       "      <th></th>\n",
       "      <th>pop</th>\n",
       "      <th>state</th>\n",
       "      <th>year</th>\n",
       "    </tr>\n",
       "  </thead>\n",
       "  <tbody>\n",
       "    <tr>\n",
       "      <th>0</th>\n",
       "      <td>1.5</td>\n",
       "      <td>Ohio</td>\n",
       "      <td>2000</td>\n",
       "    </tr>\n",
       "    <tr>\n",
       "      <th>1</th>\n",
       "      <td>1.7</td>\n",
       "      <td>Ohio</td>\n",
       "      <td>2001</td>\n",
       "    </tr>\n",
       "    <tr>\n",
       "      <th>2</th>\n",
       "      <td>3.6</td>\n",
       "      <td>Ohio</td>\n",
       "      <td>2002</td>\n",
       "    </tr>\n",
       "    <tr>\n",
       "      <th>3</th>\n",
       "      <td>2.4</td>\n",
       "      <td>Nevada</td>\n",
       "      <td>2001</td>\n",
       "    </tr>\n",
       "    <tr>\n",
       "      <th>4</th>\n",
       "      <td>2.9</td>\n",
       "      <td>Nevada</td>\n",
       "      <td>2002</td>\n",
       "    </tr>\n",
       "  </tbody>\n",
       "</table>\n",
       "</div>"
      ],
      "text/plain": [
       "   pop   state  year\n",
       "0  1.5    Ohio  2000\n",
       "1  1.7    Ohio  2001\n",
       "2  3.6    Ohio  2002\n",
       "3  2.4  Nevada  2001\n",
       "4  2.9  Nevada  2002"
      ]
     },
     "execution_count": 55,
     "metadata": {},
     "output_type": "execute_result"
    }
   ],
   "source": [
    "data = {'state': ['Ohio', 'Ohio', 'Ohio', 'Nevada', 'Nevada'],\n",
    "        'year' : [2000, 2001, 2002, 2001, 2002],\n",
    "        'pop'  : [1.5, 1.7, 3.6, 2.4, 2.9]}\n",
    "frame = DataFrame(data)\n",
    "frame"
   ]
  },
  {
   "cell_type": "code",
   "execution_count": 56,
   "metadata": {
    "collapsed": false
   },
   "outputs": [
    {
     "name": "stdout",
     "output_type": "stream",
     "text": [
      "   year   state  pop debt\n",
      "1  2000    Ohio  1.5  NaN\n",
      "2  2001    Ohio  1.7  NaN\n",
      "3  2002    Ohio  3.6  NaN\n",
      "4  2001  Nevada  2.4  NaN\n",
      "5  2002  Nevada  2.9  NaN\n",
      "   year   state  pop  debt\n",
      "1  2000    Ohio  1.5     0\n",
      "2  2001    Ohio  1.7     1\n",
      "3  2002    Ohio  3.6     2\n",
      "4  2001  Nevada  2.4     3\n",
      "5  2002  Nevada  2.9     4\n"
     ]
    }
   ],
   "source": [
    "# Can assign column names and row indices\n",
    "# NOTE: Row indices need not be unique!\n",
    "frame2 = DataFrame(data, columns = ['year', 'state', 'pop', 'debt'],\n",
    "                   index = [1, 2, 3, 4, 5])\n",
    "print(frame2)\n",
    "\n",
    "# can set values by assignment\n",
    "frame2['debt'] = np.arange(5.)\n",
    "print(frame2)"
   ]
  },
  {
   "cell_type": "code",
   "execution_count": 57,
   "metadata": {
    "collapsed": false
   },
   "outputs": [
    {
     "name": "stdout",
     "output_type": "stream",
     "text": [
      "   year   state  pop  debt\n",
      "1  2000    Ohio  1.5     1\n",
      "2  2001    Ohio  1.7   NaN\n",
      "3  2002    Ohio  3.6     2\n",
      "4  2001  Nevada  2.4   NaN\n",
      "5  2002  Nevada  2.9     3\n",
      "   year   state  pop  debt eastern\n",
      "1  2000    Ohio  1.5     1    True\n",
      "2  2001    Ohio  1.7   NaN    True\n",
      "3  2002    Ohio  3.6     2    True\n",
      "4  2001  Nevada  2.4   NaN   False\n",
      "5  2002  Nevada  2.9     3   False\n"
     ]
    }
   ],
   "source": [
    "# Assigning a column that doesn't exist will create a new column.\n",
    "# When assigning, value's length must match length of DataFrame.\n",
    "# If not, missing values will be inserted into the holes.\n",
    "frame2['debt'] = Series([1, 2, 3], index=[1,3,5])\n",
    "print(frame2)\n",
    "\n",
    "# Can create columns with boolean expressions\n",
    "frame2['eastern'] = frame2.state == 'Ohio'\n",
    "print(frame2)"
   ]
  },
  {
   "cell_type": "code",
   "execution_count": 58,
   "metadata": {
    "collapsed": false
   },
   "outputs": [
    {
     "name": "stdout",
     "output_type": "stream",
     "text": [
      "   year   state  pop  debt\n",
      "1  2000    Ohio  1.5     1\n",
      "2  2001    Ohio  1.7   NaN\n",
      "3  2002    Ohio  3.6     2\n",
      "4  2001  Nevada  2.4   NaN\n",
      "5  2002  Nevada  2.9     3\n",
      "   year state  pop  debt\n",
      "1  2000  Ohio  1.5     1\n",
      "2  2001  Ohio  1.7   NaN\n",
      "3  2002  Ohio  3.6     2\n"
     ]
    }
   ],
   "source": [
    "# Use del to delete columns\n",
    "del frame2['eastern']\n",
    "print(frame2)\n",
    "\n",
    "# Use drop to delete rows\n",
    "tempframe = frame2.drop([4,5])\n",
    "print(tempframe)"
   ]
  },
  {
   "cell_type": "code",
   "execution_count": 59,
   "metadata": {
    "collapsed": false
   },
   "outputs": [
    {
     "name": "stdout",
     "output_type": "stream",
     "text": [
      "Index(['year', 'state', 'pop', 'debt'], dtype='object')\n",
      "1      Ohio\n",
      "2      Ohio\n",
      "3      Ohio\n",
      "4    Nevada\n",
      "5    Nevada\n",
      "Name: state, dtype: object\n",
      "1      Ohio\n",
      "2      Ohio\n",
      "3      Ohio\n",
      "4    Nevada\n",
      "5    Nevada\n",
      "Name: state, dtype: object\n"
     ]
    }
   ],
   "source": [
    "print(frame2.columns)   # returns list of columns\n",
    "print(frame2['state'])  # prints state column\n",
    "print(frame2.state)     # also prints state column!"
   ]
  },
  {
   "cell_type": "code",
   "execution_count": 60,
   "metadata": {
    "collapsed": false
   },
   "outputs": [
    {
     "name": "stdout",
     "output_type": "stream",
     "text": [
      "   year   state  pop  debt\n",
      "1  2000    Ohio  1.5     1\n",
      "2  2001    Ohio  1.7   NaN\n",
      "3  2002    Ohio  3.6     2\n",
      "4  2001  Nevada  2.4   NaN\n",
      "5  2002  Nevada  2.9     3\n"
     ]
    },
    {
     "data": {
      "text/plain": [
       "year     2002\n",
       "state    Ohio\n",
       "pop       3.6\n",
       "debt        2\n",
       "Name: 3, dtype: object"
      ]
     },
     "execution_count": 60,
     "metadata": {},
     "output_type": "execute_result"
    }
   ],
   "source": [
    "# Rows can be retrieved using ix\n",
    "print(frame2)\n",
    "frame2.ix[3]"
   ]
  },
  {
   "cell_type": "code",
   "execution_count": 61,
   "metadata": {
    "collapsed": false
   },
   "outputs": [
    {
     "data": {
      "text/plain": [
       "array([[2000, 'Ohio', 1.5, 1.0],\n",
       "       [2001, 'Ohio', 1.7, nan],\n",
       "       [2002, 'Ohio', 3.6, 2.0],\n",
       "       [2001, 'Nevada', 2.4, nan],\n",
       "       [2002, 'Nevada', 2.9, 3.0]], dtype=object)"
      ]
     },
     "execution_count": 61,
     "metadata": {},
     "output_type": "execute_result"
    }
   ],
   "source": [
    "# values attribute returns data in 2D ndarray\n",
    "# If DataFrame’s columns are different dtypes, \n",
    "# the dtype of the values array will be chosen to accomodate all the columns.\n",
    "frame2.values"
   ]
  },
  {
   "cell_type": "markdown",
   "metadata": {},
   "source": [
    "### Some Functionality of DataFrames"
   ]
  },
  {
   "cell_type": "code",
   "execution_count": 63,
   "metadata": {
    "collapsed": false
   },
   "outputs": [
    {
     "name": "stdout",
     "output_type": "stream",
     "text": [
      "d    4.5\n",
      "b    7.2\n",
      "a   -5.3\n",
      "c    3.6\n",
      "dtype: float64\n",
      "a   -5.3\n",
      "b    7.2\n",
      "c    3.6\n",
      "d    4.5\n",
      "e    NaN\n",
      "dtype: float64\n"
     ]
    }
   ],
   "source": [
    "# reindex: creates a new object with the data conformed to a new index\n",
    "obj = Series([4.5, 7.2, -5.3, 3.6], index=['d', 'b', 'a', 'c'])\n",
    "print(obj)\n",
    "print(obj.reindex(['a', 'b', 'c', 'd', 'e']))\n",
    "\n",
    "# columns can also be reindexed: e.g. obj.reindex(columns=...)"
   ]
  },
  {
   "cell_type": "code",
   "execution_count": 64,
   "metadata": {
    "collapsed": false
   },
   "outputs": [
    {
     "name": "stdout",
     "output_type": "stream",
     "text": [
      "0      blue\n",
      "2    purple\n",
      "4    yellow\n",
      "dtype: object\n",
      "0      blue\n",
      "1       NaN\n",
      "2    purple\n",
      "3       NaN\n",
      "4    yellow\n",
      "5       NaN\n",
      "dtype: object\n",
      "0      blue\n",
      "1         0\n",
      "2    purple\n",
      "3         0\n",
      "4    yellow\n",
      "5         0\n",
      "dtype: object\n",
      "0      blue\n",
      "1      blue\n",
      "2    purple\n",
      "3    purple\n",
      "4    yellow\n",
      "5    yellow\n",
      "dtype: object\n"
     ]
    }
   ],
   "source": [
    "# various ways to fill in the missing values\n",
    "obj3 = Series(['blue', 'purple', 'yellow'], index=[0, 2, 4])\n",
    "print(obj3)\n",
    "print(obj3.reindex(range(6)))\n",
    "print(obj3.reindex(range(6), fill_value = 0))\n",
    "print(obj3.reindex(range(6), method='ffill'))  # forward fill\n",
    "# can use ffill or pad\n",
    "# to backfill, use bfill or backfill"
   ]
  },
  {
   "cell_type": "code",
   "execution_count": 69,
   "metadata": {
    "collapsed": false
   },
   "outputs": [
    {
     "name": "stdout",
     "output_type": "stream",
     "text": [
      "a    0\n",
      "b    1\n",
      "c    2\n",
      "d    3\n",
      "dtype: float64\n",
      "b    1\n",
      "c    2\n",
      "dtype: float64\n"
     ]
    }
   ],
   "source": [
    "# DataFrame slicing with labels behaves differently from Python in that\n",
    "# it includes endpoint.\n",
    "obj = Series(np.arange(4.), index=['a', 'b', 'c', 'd'])\n",
    "print(obj)\n",
    "print(obj['b':'c'])"
   ]
  },
  {
   "cell_type": "code",
   "execution_count": 73,
   "metadata": {
    "collapsed": false
   },
   "outputs": [
    {
     "name": "stdout",
     "output_type": "stream",
     "text": [
      "[[  0.   1.   2.   3.]\n",
      " [  4.   5.   6.   7.]\n",
      " [  8.   9.  10.  11.]]\n",
      "[ 0.  1.  2.  3.]\n",
      "[[ 0.  0.  0.  0.]\n",
      " [ 4.  4.  4.  4.]\n",
      " [ 8.  8.  8.  8.]]\n"
     ]
    }
   ],
   "source": [
    "# DataFrames can interact with Series\n",
    "arr = np.arange(12.).reshape((3, 4))\n",
    "print(arr)\n",
    "print(arr[0])\n",
    "print(arr - arr[0])  # broadcasting on rows"
   ]
  },
  {
   "cell_type": "code",
   "execution_count": 76,
   "metadata": {
    "collapsed": false,
    "scrolled": true
   },
   "outputs": [
    {
     "name": "stdout",
     "output_type": "stream",
     "text": [
      "               b         d         e\n",
      "Utah    1.771692 -0.512530  0.585855\n",
      "Ohio   -1.201704 -0.308852 -0.081640\n",
      "Texas   0.768470 -0.130008 -0.363920\n",
      "Oregon  0.528494 -0.690417 -0.911682\n",
      "b    1.771692\n",
      "d   -0.130008\n",
      "e    0.585855\n",
      "dtype: float64\n",
      "Utah      1.771692\n",
      "Ohio     -0.081640\n",
      "Texas     0.768470\n",
      "Oregon    0.528494\n",
      "dtype: float64\n"
     ]
    }
   ],
   "source": [
    "# applying functions across rows & columns\n",
    "frame = DataFrame(np.random.randn(4, 3), columns=list('bde'),\n",
    "                  index=['Utah', 'Ohio', 'Texas', 'Oregon'])\n",
    "print(frame)\n",
    "f = lambda x: x.max()\n",
    "print(frame.apply(f))            # gives one answer per column\n",
    "print(frame.apply(f, axis = 1))  # gives one answer per row"
   ]
  },
  {
   "cell_type": "code",
   "execution_count": 77,
   "metadata": {
    "collapsed": false
   },
   "outputs": [
    {
     "data": {
      "text/html": [
       "<div>\n",
       "<table border=\"1\" class=\"dataframe\">\n",
       "  <thead>\n",
       "    <tr style=\"text-align: right;\">\n",
       "      <th></th>\n",
       "      <th>b</th>\n",
       "      <th>d</th>\n",
       "      <th>e</th>\n",
       "    </tr>\n",
       "  </thead>\n",
       "  <tbody>\n",
       "    <tr>\n",
       "      <th>Utah</th>\n",
       "      <td>1.77</td>\n",
       "      <td>-0.51</td>\n",
       "      <td>0.59</td>\n",
       "    </tr>\n",
       "    <tr>\n",
       "      <th>Ohio</th>\n",
       "      <td>-1.20</td>\n",
       "      <td>-0.31</td>\n",
       "      <td>-0.08</td>\n",
       "    </tr>\n",
       "    <tr>\n",
       "      <th>Texas</th>\n",
       "      <td>0.77</td>\n",
       "      <td>-0.13</td>\n",
       "      <td>-0.36</td>\n",
       "    </tr>\n",
       "    <tr>\n",
       "      <th>Oregon</th>\n",
       "      <td>0.53</td>\n",
       "      <td>-0.69</td>\n",
       "      <td>-0.91</td>\n",
       "    </tr>\n",
       "  </tbody>\n",
       "</table>\n",
       "</div>"
      ],
      "text/plain": [
       "            b      d      e\n",
       "Utah     1.77  -0.51   0.59\n",
       "Ohio    -1.20  -0.31  -0.08\n",
       "Texas    0.77  -0.13  -0.36\n",
       "Oregon   0.53  -0.69  -0.91"
      ]
     },
     "execution_count": 77,
     "metadata": {},
     "output_type": "execute_result"
    }
   ],
   "source": [
    "# applying element-wise functions with applymap\n",
    "format = lambda x: '%.2f' % x\n",
    "frame.applymap(format)"
   ]
  },
  {
   "cell_type": "code",
   "execution_count": 94,
   "metadata": {
    "collapsed": false
   },
   "outputs": [
    {
     "name": "stdout",
     "output_type": "stream",
     "text": [
      "       d  a  b  c\n",
      "three  2  0  2  0\n",
      "one    2  2  0  1\n",
      "two    0  2  2  0\n",
      "       d  a  b  c\n",
      "one    2  2  0  1\n",
      "three  2  0  2  0\n",
      "two    0  2  2  0\n",
      "       a  b  c  d\n",
      "three  0  2  0  2\n",
      "one    2  0  1  2\n",
      "two    2  2  0  0\n",
      "       d  a  b  c\n",
      "two    0  2  2  0\n",
      "three  2  0  2  0\n",
      "one    2  2  0  1\n",
      "       d  a  b  c\n",
      "two    0  2  2  0\n",
      "three  2  0  2  0\n",
      "one    2  2  0  1\n"
     ]
    },
    {
     "name": "stderr",
     "output_type": "stream",
     "text": [
      "/Library/Frameworks/Python.framework/Versions/3.5/lib/python3.5/site-packages/ipykernel/__main__.py:9: FutureWarning: by argument to sort_index is deprecated, pls use .sort_values(by=...)\n",
      "/Library/Frameworks/Python.framework/Versions/3.5/lib/python3.5/site-packages/ipykernel/__main__.py:10: FutureWarning: by argument to sort_index is deprecated, pls use .sort_values(by=...)\n"
     ]
    }
   ],
   "source": [
    "# Sorting and ranking in a DataFrame\n",
    "np.random.seed(13)\n",
    "frame = DataFrame(np.random.randint(3, size=12).reshape((3, 4)),\n",
    "                  index=['three', 'one', 'two'],\n",
    "                  columns=['d', 'a', 'b', 'c'])\n",
    "print(frame)\n",
    "print(frame.sort_index())        # sort the rows (lexicographical)\n",
    "print(frame.sort_index(axis=1))  # sort the columns (lexicographical)\n",
    "print(frame.sort_index(by='d'))  # sort by column 'd'\n",
    "print(frame.sort_index(by=['d','a']))  # sort by column 'd', then 'a'"
   ]
  },
  {
   "cell_type": "markdown",
   "metadata": {},
   "source": [
    "## Statistics for DataFrame"
   ]
  },
  {
   "cell_type": "code",
   "execution_count": 3,
   "metadata": {
    "collapsed": false,
    "scrolled": true
   },
   "outputs": [
    {
     "name": "stdout",
     "output_type": "stream",
     "text": [
      "    one  two\n",
      "a  1.40  NaN\n",
      "b  7.10 -4.5\n",
      "c   NaN  NaN\n",
      "d  0.75 -1.3\n",
      "one    9.25\n",
      "two   -5.80\n",
      "dtype: float64\n",
      "a    1.40\n",
      "b    2.60\n",
      "c     NaN\n",
      "d   -0.55\n",
      "dtype: float64\n",
      "a     NaN\n",
      "b    2.60\n",
      "c     NaN\n",
      "d   -0.55\n",
      "dtype: float64\n"
     ]
    }
   ],
   "source": [
    "df = DataFrame([[1.4, np.nan], [7.1, -4.5], [np.nan, np.nan], [0.75, -1.3]],\n",
    "               index=['a', 'b', 'c', 'd'],\n",
    "               columns=['one', 'two'])\n",
    "print(df)\n",
    "print(df.sum())         # gives column sums\n",
    "print(df.sum(axis = 1)) # gives row sums\n",
    "\n",
    "# Typically NAs are excluded unless whole column (or row) is NA.\n",
    "# This can be disabled:\n",
    "print(df.sum(axis=1, skipna=False))"
   ]
  },
  {
   "cell_type": "code",
   "execution_count": 4,
   "metadata": {
    "collapsed": false
   },
   "outputs": [
    {
     "name": "stdout",
     "output_type": "stream",
     "text": [
      "    one  two\n",
      "a  1.40  NaN\n",
      "b  7.10 -4.5\n",
      "c   NaN  NaN\n",
      "d  0.75 -1.3\n"
     ]
    },
    {
     "data": {
      "text/html": [
       "<div>\n",
       "<table border=\"1\" class=\"dataframe\">\n",
       "  <thead>\n",
       "    <tr style=\"text-align: right;\">\n",
       "      <th></th>\n",
       "      <th>one</th>\n",
       "      <th>two</th>\n",
       "    </tr>\n",
       "  </thead>\n",
       "  <tbody>\n",
       "    <tr>\n",
       "      <th>count</th>\n",
       "      <td>3.000000</td>\n",
       "      <td>2.000000</td>\n",
       "    </tr>\n",
       "    <tr>\n",
       "      <th>mean</th>\n",
       "      <td>3.083333</td>\n",
       "      <td>-2.900000</td>\n",
       "    </tr>\n",
       "    <tr>\n",
       "      <th>std</th>\n",
       "      <td>3.493685</td>\n",
       "      <td>2.262742</td>\n",
       "    </tr>\n",
       "    <tr>\n",
       "      <th>min</th>\n",
       "      <td>0.750000</td>\n",
       "      <td>-4.500000</td>\n",
       "    </tr>\n",
       "    <tr>\n",
       "      <th>25%</th>\n",
       "      <td>1.075000</td>\n",
       "      <td>-3.700000</td>\n",
       "    </tr>\n",
       "    <tr>\n",
       "      <th>50%</th>\n",
       "      <td>1.400000</td>\n",
       "      <td>-2.900000</td>\n",
       "    </tr>\n",
       "    <tr>\n",
       "      <th>75%</th>\n",
       "      <td>4.250000</td>\n",
       "      <td>-2.100000</td>\n",
       "    </tr>\n",
       "    <tr>\n",
       "      <th>max</th>\n",
       "      <td>7.100000</td>\n",
       "      <td>-1.300000</td>\n",
       "    </tr>\n",
       "  </tbody>\n",
       "</table>\n",
       "</div>"
      ],
      "text/plain": [
       "            one       two\n",
       "count  3.000000  2.000000\n",
       "mean   3.083333 -2.900000\n",
       "std    3.493685  2.262742\n",
       "min    0.750000 -4.500000\n",
       "25%    1.075000 -3.700000\n",
       "50%    1.400000 -2.900000\n",
       "75%    4.250000 -2.100000\n",
       "max    7.100000 -1.300000"
      ]
     },
     "execution_count": 4,
     "metadata": {},
     "output_type": "execute_result"
    }
   ],
   "source": [
    "# Multiple summary statistics in one shot\n",
    "print(df)\n",
    "df.describe()"
   ]
  },
  {
   "cell_type": "code",
   "execution_count": 5,
   "metadata": {
    "collapsed": false
   },
   "outputs": [
    {
     "data": {
      "text/plain": [
       "count     16\n",
       "unique     3\n",
       "top        a\n",
       "freq       8\n",
       "dtype: object"
      ]
     },
     "execution_count": 5,
     "metadata": {},
     "output_type": "execute_result"
    }
   ],
   "source": [
    "# On non-numeric data, describe gives other summary stats\n",
    "obj = Series(['a', 'a', 'b', 'c'] * 4)\n",
    "obj.describe()"
   ]
  },
  {
   "cell_type": "markdown",
   "metadata": {},
   "source": [
    "## Handling Missing Data"
   ]
  },
  {
   "cell_type": "code",
   "execution_count": 6,
   "metadata": {
    "collapsed": false
   },
   "outputs": [
    {
     "name": "stdout",
     "output_type": "stream",
     "text": [
      "0     aardvark\n",
      "1    artichoke\n",
      "2          NaN\n",
      "3      avocado\n",
      "4         None\n",
      "dtype: object\n",
      "0    False\n",
      "1    False\n",
      "2     True\n",
      "3    False\n",
      "4     True\n",
      "dtype: bool\n"
     ]
    }
   ],
   "source": [
    "# pandas uses NaN to represent missing data for both floating & non-floating pt arrays.\n",
    "# Python's built-in None value is also treated as NA.\n",
    "\n",
    "string_data = Series(['aardvark', 'artichoke', np.nan, 'avocado', None])\n",
    "print(string_data)\n",
    "print(string_data.isnull())"
   ]
  },
  {
   "cell_type": "code",
   "execution_count": 7,
   "metadata": {
    "collapsed": false
   },
   "outputs": [
    {
     "data": {
      "text/plain": [
       "0    1.0\n",
       "2    3.5\n",
       "4    7.0\n",
       "dtype: float64"
      ]
     },
     "execution_count": 7,
     "metadata": {},
     "output_type": "execute_result"
    }
   ],
   "source": [
    "# dropna to drop missing data\n",
    "data = Series([1, NA, 3.5, NA, 7])\n",
    "data.dropna()\n",
    "\n",
    "# same as data[data.notnull()]"
   ]
  },
  {
   "cell_type": "code",
   "execution_count": 8,
   "metadata": {
    "collapsed": false
   },
   "outputs": [
    {
     "name": "stdout",
     "output_type": "stream",
     "text": [
      "    0    1   2\n",
      "0   1  6.5   3\n",
      "1   1  NaN NaN\n",
      "2 NaN  NaN NaN\n",
      "3 NaN  6.5   3\n",
      "   0    1  2\n",
      "0  1  6.5  3\n",
      "    0    1   2\n",
      "0   1  6.5   3\n",
      "1   1  NaN NaN\n",
      "3 NaN  6.5   3\n",
      "    0    1  2\n",
      "0   1  6.5  3\n",
      "3 NaN  6.5  3\n"
     ]
    }
   ],
   "source": [
    "# For a DataFrame, dropna by default drops any row containing a missing value.\n",
    "# To drop columns, pass the attribute axis=1.\n",
    "data = DataFrame([[1., 6.5, 3.], [1., NA, NA], [NA, NA, NA], [NA, 6.5, 3.]])\n",
    "cleaned1 = data.dropna()           # row dropped if any is NA\n",
    "cleaned2 = data.dropna(how='all')  # row only dropped if all NA\n",
    "cleaned3 = data.dropna(thresh=2)   # row only dropped if it has < 2 non-NAs\n",
    "print(data)\n",
    "print(cleaned1)\n",
    "print(cleaned2)\n",
    "print(cleaned3)"
   ]
  },
  {
   "cell_type": "code",
   "execution_count": 9,
   "metadata": {
    "collapsed": false
   },
   "outputs": [
    {
     "name": "stdout",
     "output_type": "stream",
     "text": [
      "          0         1         2\n",
      "0  0.134889       NaN       NaN\n",
      "1 -0.257648       NaN       NaN\n",
      "2  0.456481       NaN       NaN\n",
      "3 -2.632616       NaN -1.092949\n",
      "4  1.157239       NaN  0.478331\n",
      "5 -0.578996  0.192436 -1.443022\n",
      "6  0.481761  0.395612  0.966585\n",
      "          0         1         2\n",
      "0  0.134889  0.000000  0.000000\n",
      "1 -0.257648  0.000000  0.000000\n",
      "2  0.456481  0.000000  0.000000\n",
      "3 -2.632616  0.000000 -1.092949\n",
      "4  1.157239  0.000000  0.478331\n",
      "5 -0.578996  0.192436 -1.443022\n",
      "6  0.481761  0.395612  0.966585\n",
      "          0         1         2\n",
      "0  0.134889  4.000000  3.000000\n",
      "1 -0.257648  4.000000  3.000000\n",
      "2  0.456481  4.000000  3.000000\n",
      "3 -2.632616  4.000000 -1.092949\n",
      "4  1.157239  4.000000  0.478331\n",
      "5 -0.578996  0.192436 -1.443022\n",
      "6  0.481761  0.395612  0.966585\n"
     ]
    }
   ],
   "source": [
    "# fillna to fill in NA values\n",
    "# fillna returns a new object. To fill in place, pass the attribute inplace = True.\n",
    "\n",
    "df = DataFrame(np.random.randn(7, 3))\n",
    "df.ix[:4, 1] = NA; df.ix[:2, 2] = NA\n",
    "print(df)\n",
    "print(df.fillna(0))           # Fill NAs with value 0\n",
    "print(df.fillna({1:4, 2:3}))  # Fill NAs in col 1 with 4, col 2 with 3"
   ]
  }
 ],
 "metadata": {
  "kernelspec": {
   "display_name": "Python 3",
   "language": "python",
   "name": "python3"
  },
  "language_info": {
   "codemirror_mode": {
    "name": "ipython",
    "version": 3
   },
   "file_extension": ".py",
   "mimetype": "text/x-python",
   "name": "python",
   "nbconvert_exporter": "python",
   "pygments_lexer": "ipython3",
   "version": "3.5.0"
  }
 },
 "nbformat": 4,
 "nbformat_minor": 0
}
