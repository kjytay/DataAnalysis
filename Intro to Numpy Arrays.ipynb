{
 "cells": [
  {
   "cell_type": "code",
   "execution_count": 1,
   "metadata": {
    "collapsed": true
   },
   "outputs": [],
   "source": [
    "###############################################################\n",
    "# Examples below are (more or less) taken from Wes McKinney's\n",
    "# \"Python for Data Analysis\".\n",
    "###############################################################\n",
    "\n",
    "# This notebook is written in Python 3.\n",
    "%matplotlib inline\n",
    "\n",
    "import random\n",
    "import numpy as np\n",
    "from numpy.linalg import inv, qr\n",
    "import matplotlib.pyplot as plt"
   ]
  },
  {
   "cell_type": "code",
   "execution_count": 2,
   "metadata": {
    "collapsed": false,
    "scrolled": true
   },
   "outputs": [
    {
     "name": "stdout",
     "output_type": "stream",
     "text": [
      "Zeros: [[ 0.  0.]\n",
      " [ 0.  0.]\n",
      " [ 0.  0.]]\n",
      "Ones: [[ 1.  1.]\n",
      " [ 1.  1.]\n",
      " [ 1.  1.]]\n",
      "[ 2.    2.25  2.5   2.75  3.  ]\n",
      "[ 2.   2.2  2.4  2.6  2.8]\n"
     ]
    }
   ],
   "source": [
    "# Some quick ways to create simple matrices\n",
    "print(\"Zeros:\", np.zeros((3, 2)))  # all zeros\n",
    "print(\"Ones:\", np.ones((3, 2)))   # all ones\n",
    "\n",
    "# linspace examples\n",
    "print(np.linspace(2, 3, num=5))\n",
    "print(np.linspace(2, 3, num=5, endpoint=False))"
   ]
  },
  {
   "cell_type": "code",
   "execution_count": 3,
   "metadata": {
    "collapsed": false
   },
   "outputs": [
    {
     "name": "stdout",
     "output_type": "stream",
     "text": [
      "Mesh x-values: [[1 2 3]\n",
      " [1 2 3]]\n",
      "Mesh y-values: [[4 4 4]\n",
      " [5 5 5]]\n"
     ]
    }
   ],
   "source": [
    "# np.meshgrid takes two 1D arrays and produces two 2D matrices\n",
    "# corresponding to all pairs of (x,y)\n",
    "x = np.array([1,2,3])\n",
    "y = np.array([4,5])\n",
    "meshx, meshy = np.meshgrid(x, y)\n",
    "print(\"Mesh x-values:\", meshx)\n",
    "print(\"Mesh y-values:\", meshy)"
   ]
  },
  {
   "cell_type": "code",
   "execution_count": 4,
   "metadata": {
    "collapsed": false
   },
   "outputs": [
    {
     "name": "stdout",
     "output_type": "stream",
     "text": [
      "[[  1.   4.   9.]\n",
      " [ 16.  25.  36.]]\n"
     ]
    },
    {
     "data": {
      "text/plain": [
       "array([40])"
      ]
     },
     "execution_count": 4,
     "metadata": {},
     "output_type": "execute_result"
    }
   ],
   "source": [
    "# Multiplication gives element wise multiplication!\n",
    "arr = np.array([[1., 2., 3.], [4., 5., 6.]])\n",
    "print(arr * arr)\n",
    "\n",
    "# Matrix multiplication\n",
    "x = np.array([1, 2, 3])\n",
    "y = np.array([[0], [5], [10]])\n",
    "x.dot(y)  # equivalently np.dot(x, y)"
   ]
  },
  {
   "cell_type": "code",
   "execution_count": 5,
   "metadata": {
    "collapsed": false
   },
   "outputs": [
    {
     "name": "stdout",
     "output_type": "stream",
     "text": [
      "[999   1   2   3   4   5] Original array has changed!\n",
      "[0, 1, 2, 3, 4, 5] Original list has not changed.\n"
     ]
    }
   ],
   "source": [
    "# Array slices are different from list slices!\n",
    "# Array slices do not create a new copy while list slices do.\n",
    "arr = np.arange(6)\n",
    "arr_slice = arr[:4]\n",
    "arr_slice[0] = 999\n",
    "print(arr, \"Original array has changed!\")\n",
    "\n",
    "l = list(range(6))\n",
    "l_slice = l[:4]\n",
    "l_slice[0] = 999\n",
    "print(l, \"Original list has not changed.\")"
   ]
  },
  {
   "cell_type": "code",
   "execution_count": 6,
   "metadata": {
    "collapsed": false
   },
   "outputs": [
    {
     "name": "stdout",
     "output_type": "stream",
     "text": [
      "Original array: [0 1 2 3 4 5]\n",
      "Modified array: [10 10 10  3  4  5]\n"
     ]
    }
   ],
   "source": [
    "# You can assign a single value to an entire array slice.\n",
    "arr = np.arange(6)\n",
    "print(\"Original array:\", arr)\n",
    "arr[:3] = 10\n",
    "print(\"Modified array:\", arr)"
   ]
  },
  {
   "cell_type": "code",
   "execution_count": 7,
   "metadata": {
    "collapsed": false
   },
   "outputs": [
    {
     "name": "stdout",
     "output_type": "stream",
     "text": [
      "[[-0.58993683 -0.60271991  0.57754179  0.41336882]\n",
      " [ 0.22904198  0.15704238 -0.44237366  1.18764592]\n",
      " [ 0.87536776  0.64080706 -0.53197327  0.73317282]\n",
      " [ 1.72941137  0.34790329  1.15229879 -1.59860384]\n",
      " [-1.62269209 -0.51403669 -0.2386837  -0.1117459 ]\n",
      " [-1.04083947 -0.76418239  0.828897   -0.20640271]\n",
      " [ 0.24323662  0.83964764 -0.99995555  2.44746219]]\n"
     ]
    },
    {
     "data": {
      "text/plain": [
       "array([[-0.58993683, -0.60271991,  0.57754179,  0.41336882],\n",
       "       [ 1.72941137,  0.34790329,  1.15229879, -1.59860384]])"
      ]
     },
     "execution_count": 7,
     "metadata": {},
     "output_type": "execute_result"
    }
   ],
   "source": [
    "# Boolean indexing: Can use boolean expression to pick out data we want.\n",
    "\n",
    "# Generate 7 rows of data, assume each row of data belongs to a name.\n",
    "names = np.array(['Bob', 'Joe', 'Will', 'Bob', 'Will', 'Joe', 'Joe'])\n",
    "data = np.random.randn(7, 4)\n",
    "print(data)\n",
    "\n",
    "# Code to select the rows labelled \"Bob\"\n",
    "data[names == \"Bob\"]\n",
    "\n",
    "# NOTE!! The Python keywords \"and\" and \"or\" do not work with boolean arrays.\n",
    "# Use & and | instead."
   ]
  },
  {
   "cell_type": "code",
   "execution_count": 8,
   "metadata": {
    "collapsed": false
   },
   "outputs": [
    {
     "name": "stdout",
     "output_type": "stream",
     "text": [
      "[[ 0  1  2  3]\n",
      " [ 4  5  6  7]\n",
      " [ 8  9 10 11]\n",
      " [12 13 14 15]\n",
      " [16 17 18 19]\n",
      " [20 21 22 23]\n",
      " [24 25 26 27]\n",
      " [28 29 30 31]]\n"
     ]
    },
    {
     "data": {
      "text/plain": [
       "array([ 4, 23])"
      ]
     },
     "execution_count": 8,
     "metadata": {},
     "output_type": "execute_result"
    }
   ],
   "source": [
    "# Fancy indexing\n",
    "arr = np.arange(32).reshape((8, 4))\n",
    "print(arr)\n",
    "\n",
    "# This code returns the values in (1,0) and (5,3) in an array.\n",
    "arr[[1, 5], [0, 3]]\n",
    "\n",
    "# NOTE: Fancy indexing always copies data into a new array (unlike array slices)."
   ]
  },
  {
   "cell_type": "code",
   "execution_count": 9,
   "metadata": {
    "collapsed": false
   },
   "outputs": [
    {
     "name": "stdout",
     "output_type": "stream",
     "text": [
      "Original Array: [[0 1 2]\n",
      " [3 4 5]]\n",
      "Transpose: [[0 3]\n",
      " [1 4]\n",
      " [2 5]]\n",
      "Transpose: [[0 3]\n",
      " [1 4]\n",
      " [2 5]]\n"
     ]
    }
   ],
   "source": [
    "# Transposing gives a view of the data without copying anything.\n",
    "arr = np.arange(6).reshape((2,3))\n",
    "print(\"Original Array:\", arr)\n",
    "print(\"Transpose:\", arr.transpose())\n",
    "print(\"Transpose:\", arr.T)"
   ]
  },
  {
   "cell_type": "code",
   "execution_count": 10,
   "metadata": {
    "collapsed": false
   },
   "outputs": [
    {
     "name": "stdout",
     "output_type": "stream",
     "text": [
      "x: [0 1 2 3 4 5 6 7 8 9]\n",
      "y: [9 8 7 6 5 4 3 2 1 0]\n",
      "np.sqrt(x): [ 0.          1.          1.41421356  1.73205081  2.          2.23606798\n",
      "  2.44948974  2.64575131  2.82842712  3.        ]\n",
      "element-wise max: [9 8 7 6 5 5 6 7 8 9]\n"
     ]
    }
   ],
   "source": [
    "# Some universal functions\n",
    "x = np.arange(10)\n",
    "y = np.arange(9, -1, -1)\n",
    "print(\"x:\", x)\n",
    "print(\"y:\", y)\n",
    "\n",
    "# sqrt & exp work element-wise\n",
    "print(\"np.sqrt(x):\", np.sqrt(x))\n",
    "\n",
    "# returns element-wise maximum\n",
    "print(\"element-wise max:\", np.maximum(x, y))"
   ]
  },
  {
   "cell_type": "code",
   "execution_count": 11,
   "metadata": {
    "collapsed": false
   },
   "outputs": [
    {
     "data": {
      "text/plain": [
       "array([ 1.1,  2.2,  1.3,  1.4,  2.5])"
      ]
     },
     "execution_count": 11,
     "metadata": {},
     "output_type": "execute_result"
    }
   ],
   "source": [
    "# Conditional logic for array operations\n",
    "xarr = np.array([1.1, 1.2, 1.3, 1.4, 1.5])\n",
    "yarr = np.array([2.1, 2.2, 2.3, 2.4, 2.5])\n",
    "cond = np.array([True, False, True, True, False])\n",
    "\n",
    "# Suppose we want xarr when cond is True and yarr when cond is False.\n",
    "# List comprehensions will take too long for large arrays and will not\n",
    "# be able to handle multi-dimensional arrays. Use np.where instead.\n",
    "np.where(cond, xarr, yarr)\n",
    "\n",
    "# Note: It is possible to nest np.where to get more complicated logic, e.g.\n",
    "# np.where(cond1, 0, np.where(cond2, 1, 2))"
   ]
  },
  {
   "cell_type": "code",
   "execution_count": 12,
   "metadata": {
    "collapsed": false
   },
   "outputs": [
    {
     "name": "stdout",
     "output_type": "stream",
     "text": [
      "arr: [ 1  2  3  4  5  6  7  8  9 10]\n",
      "Mean: 5.5\n",
      "Sum: 55\n",
      "Std & Var: 2.87228132327 8.25\n",
      "Cumulative Sum: [ 1  3  6 10 15 21 28 36 45 55]\n",
      "arr2: [[ 1  2]\n",
      " [ 3  4]\n",
      " [ 5  6]\n",
      " [ 7  8]\n",
      " [ 9 10]]\n",
      "Mean of whole matrix: 5.5\n",
      "Column means: [ 5.  6.]\n",
      "Row means: [ 1.5  3.5  5.5  7.5  9.5]\n"
     ]
    }
   ],
   "source": [
    "# Some common statistical methods\n",
    "arr = np.arange(1, 11)\n",
    "print(\"arr:\", arr)\n",
    "print(\"Mean:\", arr.mean())\n",
    "print(\"Sum:\", arr.sum())\n",
    "print(\"Std & Var:\", arr.std(), arr.var())\n",
    "print(\"Cumulative Sum:\", arr.cumsum()) # This returns an array of cumsums!\n",
    "\n",
    "# Some functions can take an axis argument.\n",
    "arr2 = arr.reshape((5, 2))\n",
    "print(\"arr2:\", arr2)\n",
    "print(\"Mean of whole matrix:\", arr2.mean())\n",
    "print(\"Column means:\"       , arr2.mean(axis=0))\n",
    "print(\"Row means:\"          , arr2.mean(axis=1))\n"
   ]
  },
  {
   "cell_type": "code",
   "execution_count": 13,
   "metadata": {
    "collapsed": false
   },
   "outputs": [
    {
     "name": "stdout",
     "output_type": "stream",
     "text": [
      "[ 0.15628281  1.12746404 -0.06290467 -0.90553138 -1.21590629]\n",
      "[-1.21590629 -0.90553138 -0.06290467  0.15628281  1.12746404]\n"
     ]
    }
   ],
   "source": [
    "# Arrays can be sorted in place\n",
    "arr = np.random.randn(5)\n",
    "print(arr)\n",
    "arr.sort()\n",
    "print(arr)"
   ]
  },
  {
   "cell_type": "code",
   "execution_count": 14,
   "metadata": {
    "collapsed": false
   },
   "outputs": [
    {
     "name": "stdout",
     "output_type": "stream",
     "text": [
      "[0 1 2]\n",
      "[ True  True False False  True False False False]\n"
     ]
    }
   ],
   "source": [
    "# Get unique items in 1D array\n",
    "arr = np.array([0, 0, 2, 2, 0, 1, 1, 2])\n",
    "print(np.unique(arr))\n",
    "\n",
    "# Test if the values of a 1D array appear in a particular array\n",
    "print(np.in1d(arr, [0]))"
   ]
  },
  {
   "cell_type": "code",
   "execution_count": 15,
   "metadata": {
    "collapsed": false
   },
   "outputs": [
    {
     "name": "stdout",
     "output_type": "stream",
     "text": [
      "[[ 7. -3.]\n",
      " [-2.  1.]]\n",
      "[[ 1.  0.]\n",
      " [ 0.  1.]]\n"
     ]
    },
    {
     "data": {
      "text/plain": [
       "array([[-2.23606798, -7.60263112],\n",
       "       [ 0.        ,  0.4472136 ]])"
      ]
     },
     "execution_count": 15,
     "metadata": {},
     "output_type": "execute_result"
    }
   ],
   "source": [
    "# Inverse matrix\n",
    "A = np.array([[1, 3],\n",
    "             [2, 7]])\n",
    "B = inv(A)\n",
    "print(B)\n",
    "print(np.dot(A, B))\n",
    "\n",
    "# QR decomposition\n",
    "q, r = qr(A)\n",
    "r"
   ]
  },
  {
   "cell_type": "code",
   "execution_count": 17,
   "metadata": {
    "collapsed": false
   },
   "outputs": [
    {
     "data": {
      "image/png": "[encoded data removed]",
      "text/plain": [
       "<matplotlib.figure.Figure at 0x1089de2e8>"
      ]
     },
     "metadata": {},
     "output_type": "display_data"
    }
   ],
   "source": [
    "######################\n",
    "# RANDOM WALK EXAMPLE\n",
    "######################\n",
    "position = 0\n",
    "walk = [position]\n",
    "steps = 1000\n",
    "for i in range(steps):\n",
    "    step = 1 if random.randint(0, 1) else -1\n",
    "    position += step\n",
    "    walk.append(position)\n",
    "\n",
    "\n",
    "plt.plot(walk)\n",
    "plt.show()\n",
    "\n",
    "# Simulate many random walks at once using numpy\n",
    "nwalks = 5000\n",
    "nsteps = 1000\n",
    "draws = np.random.randint(0, 2, size=(nwalks, nsteps))  # 0 or 1\n",
    "steps = np.where(draws > 0, 1, -1)  # replace the 0s with -1s\n",
    "walks = steps.cumsum(1)  # cumulative sum across rows (i.e. each row is a walk)"
   ]
  }
 ],
 "metadata": {
  "kernelspec": {
   "display_name": "Python 3",
   "language": "python",
   "name": "python3"
  },
  "language_info": {
   "codemirror_mode": {
    "name": "ipython",
    "version": 3
   },
   "file_extension": ".py",
   "mimetype": "text/x-python",
   "name": "python",
   "nbconvert_exporter": "python",
   "pygments_lexer": "ipython3",
   "version": "3.5.0"
  }
 },
 "nbformat": 4,
 "nbformat_minor": 0
}
